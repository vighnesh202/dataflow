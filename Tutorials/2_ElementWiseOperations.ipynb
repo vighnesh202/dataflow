{
 "cells": [
  {
   "cell_type": "markdown",
   "metadata": {},
   "source": [
    "##### Copyright 2020 Google Inc.\n",
    "\n",
    "Licensed under the Apache License, Version 2.0 (the \"License\").\n",
    "<!--\n",
    "    Licensed to the Apache Software Foundation (ASF) under one\n",
    "    or more contributor license agreements.  See the NOTICE file\n",
    "    distributed with this work for additional information\n",
    "    regarding copyright ownership.  The ASF licenses this file\n",
    "    to you under the Apache License, Version 2.0 (the\n",
    "    \"License\"); you may not use this file except in compliance\n",
    "    with the License.  You may obtain a copy of the License at\n",
    "\n",
    "      http://www.apache.org/licenses/LICENSE-2.0\n",
    "\n",
    "    Unless required by applicable law or agreed to in writing,\n",
    "    software distributed under the License is distributed on an\n",
    "    \"AS IS\" BASIS, WITHOUT WARRANTIES OR CONDITIONS OF ANY\n",
    "    KIND, either express or implied.  See the License for the\n",
    "    specific language governing permissions and limitations\n",
    "    under the License.\n",
    "-->\n"
   ]
  },
  {
   "cell_type": "markdown",
   "metadata": {},
   "source": [
    "# Element-wise operations\n",
    "\n",
    "The previous notebook showed two ways of doing operations at the element level: `ParDo` and `Map`. `ParDo` as the most general operation and `Map` as a simplification for *one-to-one* operations. While these two operations suffice (actually, just `ParDo` can do everything), there are some other **element-wise** operations that help with readability and optimization.\n",
    "\n",
    "Let's import what the notebook needs first:"
   ]
  },
  {
   "cell_type": "code",
   "execution_count": 2,
   "metadata": {},
   "outputs": [],
   "source": [
    "import logging\n",
    "#import sympy\n",
    "\n",
    "import apache_beam as beam\n",
    "from apache_beam import Create, FlatMap, Map, ParDo, Filter, Flatten, Partition, MapTuple, FlatMapTuple\n",
    "from apache_beam import Keys, Values\n",
    "from apache_beam.transforms.util import WithKeys\n",
    "\n",
    "from apache_beam.runners.interactive.interactive_runner import InteractiveRunner\n",
    "import apache_beam.runners.interactive.interactive_beam as ib"
   ]
  },
  {
   "cell_type": "markdown",
   "metadata": {},
   "source": [
    "**`Filter`** applies a function for every element and outputs it if the function returns `True`."
   ]
  },
  {
   "cell_type": "code",
   "execution_count": 3,
   "metadata": {},
   "outputs": [
    {
     "ename": "NameError",
     "evalue": "name 'sympy' is not defined",
     "output_type": "error",
     "traceback": [
      "\u001b[0;31m\u001b[0m",
      "\u001b[0;31mNameError\u001b[0mTraceback (most recent call last)",
      "\u001b[0;32m<ipython-input-3-47b79828f515>\u001b[0m in \u001b[0;36m<module>\u001b[0;34m\u001b[0m\n\u001b[1;32m      3\u001b[0m \u001b[0;34m\u001b[0m\u001b[0m\n\u001b[1;32m      4\u001b[0m primes = (p | \"CreateNumbers\" >> Create(range(N))\n\u001b[0;32m----> 5\u001b[0;31m             | \"IsPrime\" >> Filter(sympy.isprime))\n\u001b[0m\u001b[1;32m      6\u001b[0m \u001b[0;34m\u001b[0m\u001b[0m\n\u001b[1;32m      7\u001b[0m \u001b[0mib\u001b[0m\u001b[0;34m.\u001b[0m\u001b[0mshow\u001b[0m\u001b[0;34m(\u001b[0m\u001b[0mprimes\u001b[0m\u001b[0;34m)\u001b[0m\u001b[0;34m\u001b[0m\u001b[0;34m\u001b[0m\u001b[0m\n",
      "\u001b[0;31mNameError\u001b[0m: name 'sympy' is not defined"
     ]
    }
   ],
   "source": [
    "p = beam.Pipeline(InteractiveRunner())\n",
    "N = 20\n",
    "\n",
    "primes = (p | \"CreateNumbers\" >> Create(range(N))\n",
    "            | \"IsPrime\" >> Filter(sympy.isprime))\n",
    "\n",
    "ib.show(primes)"
   ]
  },
  {
   "cell_type": "markdown",
   "metadata": {},
   "source": [
    "**`FlatMap`** applies a transformation to an element and outputs none, one, or more elements. High level transformation. It's a simplification of the `ParDo`."
   ]
  },
  {
   "cell_type": "code",
   "execution_count": 5,
   "metadata": {},
   "outputs": [
    {
     "data": {
      "text/html": [
       "\n",
       "            <link rel=\"stylesheet\" href=\"https://stackpath.bootstrapcdn.com/bootstrap/4.4.1/css/bootstrap.min.css\" integrity=\"sha384-Vkoo8x4CGsO3+Hhxv8T/Q5PaXtkKtu6ug5TOeNV6gBiFeWPGFN9MuhOf23Q9Ifjh\" crossorigin=\"anonymous\">\n",
       "            <div id=\"progress_indicator_acaeac25797461978f7486190759c8ae\" class=\"spinner-border text-info\" role=\"status\">\n",
       "            </div>"
      ],
      "text/plain": [
       "<IPython.core.display.HTML object>"
      ]
     },
     "metadata": {},
     "output_type": "display_data"
    },
    {
     "name": "stderr",
     "output_type": "stream",
     "text": [
      "WARNING:root:Make sure that locally built Python SDK docker image has Python 3.7 interpreter.\n"
     ]
    },
    {
     "data": {
      "text/html": [
       "\n",
       "            <style>\n",
       "            .p-Widget.jp-OutputPrompt.jp-OutputArea-prompt:empty {\n",
       "              padding: 0;\n",
       "              border: 0;\n",
       "            }\n",
       "            .p-Widget.jp-RenderedJavaScript.jp-mod-trusted.jp-OutputArea-output:empty {\n",
       "              padding: 0;\n",
       "              border: 0;\n",
       "            }\n",
       "            </style>\n",
       "            <link rel=\"stylesheet\" href=\"https://cdn.datatables.net/1.10.20/css/jquery.dataTables.min.css\">\n",
       "            <table id=\"table_df_782fe357039a0e0285a2f4456f11f258\" class=\"display\" style=\"display:block\"></table>\n",
       "            <script>\n",
       "              \n",
       "        if (typeof window.interactive_beam_jquery == 'undefined') {\n",
       "          var jqueryScript = document.createElement('script');\n",
       "          jqueryScript.src = 'https://code.jquery.com/jquery-3.4.1.slim.min.js';\n",
       "          jqueryScript.type = 'text/javascript';\n",
       "          jqueryScript.onload = function() {\n",
       "            var datatableScript = document.createElement('script');\n",
       "            datatableScript.src = 'https://cdn.datatables.net/1.10.20/js/jquery.dataTables.min.js';\n",
       "            datatableScript.type = 'text/javascript';\n",
       "            datatableScript.onload = function() {\n",
       "              window.interactive_beam_jquery = jQuery.noConflict(true);\n",
       "              window.interactive_beam_jquery(document).ready(function($){\n",
       "                \n",
       "            var dt;\n",
       "            if ($.fn.dataTable.isDataTable(\"#table_df_782fe357039a0e0285a2f4456f11f258\")) {\n",
       "              dt = $(\"#table_df_782fe357039a0e0285a2f4456f11f258\").dataTable();\n",
       "            } else if ($(\"#table_df_782fe357039a0e0285a2f4456f11f258_wrapper\").length == 0) {\n",
       "              dt = $(\"#table_df_782fe357039a0e0285a2f4456f11f258\").dataTable({\n",
       "                \n",
       "            bAutoWidth: false,\n",
       "            columns: [{'title': ''}, {'title': 'lines.0'}, {'title': 'lines.1'}, {'title': 'lines.2'}],\n",
       "            destroy: true,\n",
       "            responsive: true,\n",
       "            columnDefs: [\n",
       "              {\n",
       "                targets: \"_all\",\n",
       "                className: \"dt-left\"\n",
       "              },\n",
       "              {\n",
       "                \"targets\": 0,\n",
       "                \"width\": \"10px\",\n",
       "                \"title\": \"\"\n",
       "              }\n",
       "            ]\n",
       "              });\n",
       "            } else {\n",
       "              return;\n",
       "            }\n",
       "            dt.api()\n",
       "              .clear()\n",
       "              .rows.add([{1: 'Lorem ipsum dolor sit amet', 2: 'Consectetur adipiscing elit', 3: 'Sed eu velit nec sem vulputate loborti', 0: 0}, {1: 'In lobortis augue vitae sagittis molestie', 2: 'Mauris volutpat tortor non purus elementum', 3: 'None', 0: 1}, {1: 'Ut blandit massa et risus sollicitudin auctor', 2: 'None', 3: 'None', 0: 2}])\n",
       "              .draw('full-hold');\n",
       "              });\n",
       "            }\n",
       "            document.head.appendChild(datatableScript);\n",
       "          };\n",
       "          document.head.appendChild(jqueryScript);\n",
       "        } else {\n",
       "          window.interactive_beam_jquery(document).ready(function($){\n",
       "            \n",
       "            var dt;\n",
       "            if ($.fn.dataTable.isDataTable(\"#table_df_782fe357039a0e0285a2f4456f11f258\")) {\n",
       "              dt = $(\"#table_df_782fe357039a0e0285a2f4456f11f258\").dataTable();\n",
       "            } else if ($(\"#table_df_782fe357039a0e0285a2f4456f11f258_wrapper\").length == 0) {\n",
       "              dt = $(\"#table_df_782fe357039a0e0285a2f4456f11f258\").dataTable({\n",
       "                \n",
       "            bAutoWidth: false,\n",
       "            columns: [{'title': ''}, {'title': 'lines.0'}, {'title': 'lines.1'}, {'title': 'lines.2'}],\n",
       "            destroy: true,\n",
       "            responsive: true,\n",
       "            columnDefs: [\n",
       "              {\n",
       "                targets: \"_all\",\n",
       "                className: \"dt-left\"\n",
       "              },\n",
       "              {\n",
       "                \"targets\": 0,\n",
       "                \"width\": \"10px\",\n",
       "                \"title\": \"\"\n",
       "              }\n",
       "            ]\n",
       "              });\n",
       "            } else {\n",
       "              return;\n",
       "            }\n",
       "            dt.api()\n",
       "              .clear()\n",
       "              .rows.add([{1: 'Lorem ipsum dolor sit amet', 2: 'Consectetur adipiscing elit', 3: 'Sed eu velit nec sem vulputate loborti', 0: 0}, {1: 'In lobortis augue vitae sagittis molestie', 2: 'Mauris volutpat tortor non purus elementum', 3: 'None', 0: 1}, {1: 'Ut blandit massa et risus sollicitudin auctor', 2: 'None', 3: 'None', 0: 2}])\n",
       "              .draw('full-hold');\n",
       "          });\n",
       "        }\n",
       "            </script>"
      ],
      "text/plain": [
       "<IPython.core.display.HTML object>"
      ]
     },
     "metadata": {},
     "output_type": "display_data"
    },
    {
     "data": {
      "application/javascript": [
       "\n",
       "        if (typeof window.interactive_beam_jquery == 'undefined') {\n",
       "          var jqueryScript = document.createElement('script');\n",
       "          jqueryScript.src = 'https://code.jquery.com/jquery-3.4.1.slim.min.js';\n",
       "          jqueryScript.type = 'text/javascript';\n",
       "          jqueryScript.onload = function() {\n",
       "            var datatableScript = document.createElement('script');\n",
       "            datatableScript.src = 'https://cdn.datatables.net/1.10.20/js/jquery.dataTables.min.js';\n",
       "            datatableScript.type = 'text/javascript';\n",
       "            datatableScript.onload = function() {\n",
       "              window.interactive_beam_jquery = jQuery.noConflict(true);\n",
       "              window.interactive_beam_jquery(document).ready(function($){\n",
       "                \n",
       "            $(\"#progress_indicator_acaeac25797461978f7486190759c8ae\").remove();\n",
       "              });\n",
       "            }\n",
       "            document.head.appendChild(datatableScript);\n",
       "          };\n",
       "          document.head.appendChild(jqueryScript);\n",
       "        } else {\n",
       "          window.interactive_beam_jquery(document).ready(function($){\n",
       "            \n",
       "            $(\"#progress_indicator_acaeac25797461978f7486190759c8ae\").remove();\n",
       "          });\n",
       "        }"
      ]
     },
     "metadata": {},
     "output_type": "display_data"
    }
   ],
   "source": [
    "p = beam.Pipeline(InteractiveRunner())\n",
    "\n",
    "elements = [\"Lorem ipsum dolor sit amet. Consectetur adipiscing elit. Sed eu velit nec sem vulputate loborti\",\n",
    "            \"In lobortis augue vitae sagittis molestie. Mauris volutpat tortor non purus elementum\",\n",
    "            \"Ut blandit massa et risus sollicitudin auctor\"]\n",
    "\n",
    "lines = (p | Create(elements)\n",
    "           | Map(lambda x: x.split(\". \")))\n",
    "\n",
    "ib.show(lines)"
   ]
  },
  {
   "cell_type": "markdown",
   "metadata": {},
   "source": [
    "Note that for every element, the output is more than one element (input is 3 elements and output is 6 elements). This operation could not be done with a `Map`, since `Map` can only output one (or none) element for every element. \n",
    "\n",
    "The function used needs to output an iterable.\n"
   ]
  },
  {
   "cell_type": "markdown",
   "metadata": {},
   "source": [
    "</br>\n",
    "\n",
    "Pipelines can use `PCollections` as parameters in functions, using `Side Inputs`. This parameter can be treated as a dictionary, as a list, as a singleton, or as an iterable. More details in the [Apache Beam documentation](https://beam.apache.org/releases/pydoc/current/apache_beam.pvalue.html)."
   ]
  },
  {
   "cell_type": "code",
   "execution_count": null,
   "metadata": {},
   "outputs": [],
   "source": [
    "p = beam.Pipeline(InteractiveRunner())\n",
    "\n",
    "values = [\n",
    "    {\"currency\": \"USD\", \"amount\": 2.728281},\n",
    "    {\"currency\": \"EUR\", \"amount\": 3.141592},\n",
    "    {\"currency\": \"CHF\", \"amount\": 1729},\n",
    "]\n",
    "\n",
    "eur = {\"CHF\":1.0585,\"EUR\":1, \"USD\":1.0956}\n",
    "usd = {\"CHF\":0.9661372764,\"EUR\":0.9127418766,\"USD\":1}\n",
    "chf = {\"EUR\":0.9447331129,\"CHF\":1,\"USD\":1.0350495985}\n",
    "rates = {\"EUR\":eur, \"USD\":usd, \"CHF\":chf}\n",
    "\n",
    "\n",
    "def change_currency(value, ratios):\n",
    "    current = value[\"currency\"]\n",
    "    exchanged = {\"Original\":current}\n",
    "    for key in ratios[current]:\n",
    "        exchanged[key] = value[\"amount\"] * ratios[current][key]\n",
    "    return [exchanged]\n",
    "\n",
    "rates_pc = p | \"Rates\" >> Create(rates)\n",
    "\n",
    "exchange = (p | Create(values)\n",
    "              | ParDo(change_currency, ratios=beam.pvalue.AsDict(rates_pc)))\n",
    "\n",
    "ib.show_graph(p)\n",
    "ib.show(exchange)"
   ]
  },
  {
   "cell_type": "markdown",
   "metadata": {},
   "source": [
    "`InteractiveRunner` has the option to export the output `PCollection` as a Pandas DataFrame, using `collect`"
   ]
  },
  {
   "cell_type": "code",
   "execution_count": null,
   "metadata": {},
   "outputs": [],
   "source": [
    "df = ib.collect(exchange)\n",
    "df, type(df)"
   ]
  },
  {
   "cell_type": "markdown",
   "metadata": {},
   "source": [
    "__________________________________________ \n",
    "\n",
    "One of the fundamentals of all ETL frameworks is the use of key-value pairs for aggregating and/or grouping data according to some logic. In Apache Beam, tuples of two values are treated as key-values.\n",
    "\n",
    "Apache Beam has some built-in operations to add/extract keys and values.\n",
    "\n",
    "**`WithKeys`** adds a key to each element and outputs the key and old element. \n",
    "\n",
    "**`Keys`** outputs the key of a key-value pair.\n",
    "\n",
    "**`Values`** outputs the value of a key-value pair."
   ]
  },
  {
   "cell_type": "code",
   "execution_count": null,
   "metadata": {},
   "outputs": [],
   "source": [
    "p = beam.Pipeline(InteractiveRunner())\n",
    "\n",
    "elements = [\n",
    "    {\"country\": \"China\", \"population\": 1389, \"continent\": \"Asia\"},\n",
    "    {\"country\": \"India\", \"population\": 1311, \"continent\": \"Asia\"},\n",
    "    {\"country\": \"USA\", \"population\": 331, \"continent\": \"America\"},\n",
    "    {\"country\": \"Australia\", \"population\": 25, \"continent\": \"Oceania\"},\n",
    "    {\"country\": \"Brazil\", \"population\": 212, \"continent\": \"America\"},\n",
    "]\n",
    "\n",
    "create = (p | \"Create\" >> Create(elements)\n",
    "            | WithKeys(lambda x: x[\"continent\"]))\n",
    "\n",
    "key_pc = create | Keys()\n",
    "\n",
    "value_pc = create | Values()\n",
    "\n",
    "ib.show(key_pc, value_pc)"
   ]
  },
  {
   "cell_type": "markdown",
   "metadata": {},
   "source": [
    "You can use `MapTuple` and `FlatMapTuple` instead of `Map` and `FlatMap` if the elements are tuples."
   ]
  },
  {
   "cell_type": "code",
   "execution_count": null,
   "metadata": {},
   "outputs": [],
   "source": [
    "p = beam.Pipeline(InteractiveRunner())\n",
    "\n",
    "elements = [\n",
    "    (2, 1),\n",
    "    (3, 4),\n",
    "    (7, 11),\n",
    "    (18, 29),\n",
    "    (47, 76),\n",
    "    (123, 199)\n",
    "]\n",
    "\n",
    "create = p | \"Create\" >> Create(elements)\n",
    "\n",
    "tuple_mapped = create | MapTuple(lambda x, y: (x, y / x))\n",
    "ib.show(tuple_mapped)\n",
    "\n",
    "tuple_flatten = create | FlatMapTuple(lambda *x: [*x])\n",
    "ib.show(tuple_flatten)"
   ]
  },
  {
   "cell_type": "markdown",
   "metadata": {},
   "source": [
    "This is the version using `Map` and `FlatMap`:"
   ]
  },
  {
   "cell_type": "code",
   "execution_count": null,
   "metadata": {},
   "outputs": [],
   "source": [
    "p = beam.Pipeline(InteractiveRunner())\n",
    "\n",
    "elements = [\n",
    "    (2, 1),\n",
    "    (3, 4),\n",
    "    (7, 11),\n",
    "    (18, 29),\n",
    "    (47, 76),\n",
    "    (123, 199)\n",
    "]\n",
    "\n",
    "create = p | \"Create\" >> Create(elements)\n",
    "\n",
    "tuple_map = create | Map(lambda x: (x[0], x[1] / x[0]))\n",
    "ib.show(tuple_map)\n",
    "\n",
    "tuple_flatten = create | FlatMap(lambda x: [*x])\n",
    "ib.show(tuple_flatten)"
   ]
  },
  {
   "cell_type": "markdown",
   "metadata": {},
   "source": [
    "## Exercise"
   ]
  },
  {
   "cell_type": "markdown",
   "metadata": {},
   "source": [
    "The next pipeline is going to create N lists of numbers. For each list, it needs to output the odd numbers as individual elements. As an example, an input element that consists of a list `[5, 24, 10, 13, 1]` will be transformed into three individual output elements `5`, `13` and `1`.\n",
    "\n",
    "There are hints below and the solution at the end.\n",
    "\n",
    "Since we are going to test if the pipeline is right, be sure to name the final pipeline `final`. "
   ]
  },
  {
   "cell_type": "code",
   "execution_count": null,
   "metadata": {},
   "outputs": [],
   "source": [
    "from apache_beam.testing.util import assert_that\n",
    "from apache_beam.testing.util import matches_all, equal_to\n",
    "from utils.solutions import solutions"
   ]
  },
  {
   "cell_type": "code",
   "execution_count": null,
   "metadata": {},
   "outputs": [],
   "source": [
    "p = beam.Pipeline(InteractiveRunner())\n",
    "    \n",
    "elements = [[1, 6, 29, 17],\n",
    "            [4, 7, 1729, 3],\n",
    "            [3.1415]]\n",
    "\n",
    "# TODO: Finish the pipeline \n",
    "final = (p | \"Create\" >> Create(elements)\n",
    "        )\n",
    "\n",
    "ib.show(final)\n",
    "\n",
    "# For testing the solution - Don't modify         \n",
    "assert_that(final, equal_to(solutions[2]))"
   ]
  },
  {
   "cell_type": "markdown",
   "metadata": {},
   "source": [
    "### Hints"
   ]
  },
  {
   "cell_type": "markdown",
   "metadata": {},
   "source": [
    "**Process created elements**\n",
    "<details><summary>Hint</summary>\n",
    "<p>\n",
    "\n",
    "Since from one element (the list) we need to output one or more elements, you need to use a `FlatMap` or `ParDo`.\n",
    "</p>\n",
    "</details>\n",
    "\n",
    "\n",
    "<details><summary>Code</summary>\n",
    "<p>\n",
    "\n",
    "Every element is an iterable, so you can just return the iterable from the `FlatMap`:   \n",
    "```\n",
    "create = (p | \"Create\" >> Create(elements)\n",
    "            | \"Flatmap\" >> FlatMap(lambda x: x))\n",
    "```\n",
    "\n",
    "</p>\n",
    "</details>"
   ]
  },
  {
   "cell_type": "markdown",
   "metadata": {},
   "source": [
    "**Eliminate elements given according to a rule**\n",
    "<details><summary>Hint</summary>\n",
    "<p>\n",
    "\n",
    "You need to filter the elements by odd or even, so we can use `Filter` (as always, you can use the general `ParDo` or even `Map`).\n",
    "</p>\n",
    "</details>\n",
    "\n",
    "<details><summary>Code</summary>\n",
    "<p>\n",
    "    \n",
    "```   \n",
    "create | Filter(lambda x: x % 2 == 1)\n",
    "```\n",
    "\n",
    "</p>\n",
    "</details>"
   ]
  },
  {
   "cell_type": "markdown",
   "metadata": {},
   "source": [
    "**Full code**\n",
    "<details><summary>Code</summary>\n",
    "<p>\n",
    "\n",
    "```\n",
    "p = beam.Pipeline(InteractiveRunner())\n",
    "    \n",
    "elements = [[1, 6, 29, 17],\n",
    "            [4, 7, 1729, 3],\n",
    "            [3.1415]]\n",
    "\n",
    "# TODO: Finish the pipeline \n",
    "final = (p | \"Create\" >> Create(elements)\n",
    "   | FlatMap(lambda x: x)\n",
    "   | Filter(lambda x: x % 2 == 1))\n",
    "\n",
    "ib.show(final)\n",
    "\n",
    "# For testing the solution - Don't modify         \n",
    "assert_that(final, equal_to(solutions[2]))   \n",
    "```\n",
    "    \n",
    "\n",
    "</p>\n",
    "</details>\n"
   ]
  }
 ],
 "metadata": {
  "kernelspec": {
   "display_name": "01. Apache Beam 2.35.0 for Python 3",
   "language": "python",
   "name": "01-apache-beam-2.35.0"
  },
  "language_info": {
   "codemirror_mode": {
    "name": "ipython",
    "version": 3
   },
   "file_extension": ".py",
   "mimetype": "text/x-python",
   "name": "python",
   "nbconvert_exporter": "python",
   "pygments_lexer": "ipython3",
   "version": "3.7.12"
  }
 },
 "nbformat": 4,
 "nbformat_minor": 4
}
