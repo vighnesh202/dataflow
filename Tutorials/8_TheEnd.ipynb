{
 "cells": [
  {
   "cell_type": "markdown",
   "metadata": {},
   "source": [
    "# The End\n",
    "\n",
    "Thanks a lot for going through the notebooks and **CONGRATULATIONS**.\n",
    "\n",
    "We hope you learned a lot and now you feel more confident when creating amazing Apache Beam pipelines."
   ]
  },
  {
   "cell_type": "markdown",
   "metadata": {},
   "source": [
    "We would love to hear how well we did and how much you learned, so if you have any feedback on these notebooks, drop us a line at beam-notebooks-feedback@google.com."
   ]
  },
  {
   "cell_type": "markdown",
   "metadata": {},
   "source": [
    "### Deleting resources"
   ]
  },
  {
   "cell_type": "markdown",
   "metadata": {},
   "source": [
    "If you want to delete the resources created (BigQuery dataset, topics and bucket), change `DELETE = True` in the following cell and run it."
   ]
  },
  {
   "cell_type": "code",
   "execution_count": null,
   "metadata": {},
   "outputs": [],
   "source": [
    "import google.auth\n",
    "\n",
    "DELETE = False\n",
    "\n",
    "project = google.auth.default()[1]\n",
    "\n",
    "if DELETE:\n",
    "    !gcloud pubsub topics delete beambasics\n",
    "    !gcloud pubsub topics delete beambasics-exercise\n",
    "    !bq rm -r -f -d beam_basics\n",
    "    !gsutil -m rm -r gs://beam-basics-{project}\n",
    "else:\n",
    "    print(\"NOTHING WAS DELETED\")"
   ]
  }
 ],
 "metadata": {
  "language_info": {
   "codemirror_mode": {
    "name": "ipython",
    "version": 3
   },
   "file_extension": ".py",
   "mimetype": "text/x-python",
   "name": "python",
   "nbconvert_exporter": "python",
   "pygments_lexer": "ipython3",
   "version": "3.7.6"
  }
 },
 "nbformat": 4,
 "nbformat_minor": 4
}
