{
 "cells": [
  {
   "cell_type": "markdown",
   "metadata": {},
   "source": [
    "##### Copyright 2020 Google Inc.\n",
    "\n",
    "Licensed under the Apache License, Version 2.0 (the \"License\").\n",
    "<!--\n",
    "    Licensed to the Apache Software Foundation (ASF) under one\n",
    "    or more contributor license agreements.  See the NOTICE file\n",
    "    distributed with this work for additional information\n",
    "    regarding copyright ownership.  The ASF licenses this file\n",
    "    to you under the Apache License, Version 2.0 (the\n",
    "    \"License\"); you may not use this file except in compliance\n",
    "    with the License.  You may obtain a copy of the License at\n",
    "\n",
    "      http://www.apache.org/licenses/LICENSE-2.0\n",
    "\n",
    "    Unless required by applicable law or agreed to in writing,\n",
    "    software distributed under the License is distributed on an\n",
    "    \"AS IS\" BASIS, WITHOUT WARRANTIES OR CONDITIONS OF ANY\n",
    "    KIND, either express or implied.  See the License for the\n",
    "    specific language governing permissions and limitations\n",
    "    under the License.\n",
    "-->\n"
   ]
  },
  {
   "cell_type": "markdown",
   "metadata": {},
   "source": [
    "\n",
    "# Windows"
   ]
  },
  {
   "cell_type": "markdown",
   "metadata": {},
   "source": [
    "Windows subdivide `PCollections` based on element’s timestamp and/or a given logic. When aggregating unbounded data, you must subdivide this data with windows; this allows for the aggregation to use these bounded data to finish the operation.\n",
    "\n",
    "Apache Beam has three predefined windows: `FixedWindows`, `SlidingWindows` and `SessionWindows`. Here we talk about the first two. There is another type of window called `GlobalWindow`, which all elements fall into.\n",
    "\n",
    "You can create our own window type, but we don't cover this here. You can find this information in the [Apache Beam Documentation](https://beam.apache.org/documentation/programming-guide/#setting-your-pcollections-windowing-function).\n",
    "\n",
    "Let's first import the needed packages."
   ]
  },
  {
   "cell_type": "code",
   "execution_count": null,
   "metadata": {},
   "outputs": [],
   "source": [
    "import logging\n",
    "import time\n",
    "from datetime import datetime\n",
    "\n",
    "import apache_beam as beam\n",
    "from apache_beam import Create, FlatMap, Map, ParDo, Filter, Flatten, Partition\n",
    "from apache_beam import Keys, Values, GroupByKey, CoGroupByKey, CombineGlobally, CombinePerKey\n",
    "from apache_beam import pvalue, window, WindowInto\n",
    "from apache_beam.transforms.combiners import Top, Mean, Count, MeanCombineFn\n",
    "\n",
    "from apache_beam.runners.interactive.interactive_runner import InteractiveRunner\n",
    "import apache_beam.runners.interactive.interactive_beam as ib"
   ]
  },
  {
   "cell_type": "markdown",
   "metadata": {},
   "source": [
    "**`FixedWindows`** creates a window of a given duration and when it closes, another window is create right after it. They are good for measuring events within a given time.\n",
    "\n",
    "![Fixed Windows](./images/fixed-time-windows.png)\n",
    "\n",
    "**`SlidingWindows`** creates a window of a given duration and, after given period, it creates another overlapping window of the same duration. This means that an element can fall into more than one window. They are useful when measuring trends.\n",
    "\n",
    "![Sliding Windows](./images/sliding-time-windows.png)\n",
    "\n",
    "See Apache Beam programming guide for more [details](https://beam.apache.org/documentation/programming-guide/#windowing).\n"
   ]
  },
  {
   "cell_type": "markdown",
   "metadata": {},
   "source": [
    "The `InteractiveRunner` has another feature that allow us to see the window info in the output"
   ]
  },
  {
   "cell_type": "code",
   "execution_count": null,
   "metadata": {},
   "outputs": [],
   "source": [
    "p = beam.Pipeline(InteractiveRunner())\n",
    "\n",
    "def key_value_fn(element):\n",
    "    key = element[\"user\"]\n",
    "    value = element[\"product\"]\n",
    "    return (key, value)\n",
    "\n",
    "elements = [\n",
    "    {\"user\": \"john\", \"product\": \"Laptop\", \"time\": 1581870000}, #16:20 UTC \n",
    "    {\"user\": \"rebecca\", \"product\": \"Videogame\", \"time\": 1581870180}, #16:23 UTC\n",
    "    {\"user\": \"john\", \"product\": \"Movie\", \"time\": 1581870420}, #16:27 UTC\n",
    "    {\"user\": \"rebecca\", \"product\": \"Snacks\", \"time\": 1581871200}, #16:40 UTC\n",
    "    {\"user\": \"rebecca\", \"product\": \"Controller\", \"time\": 1581870900}, #16:35 UTC\n",
    "]\n",
    "\n",
    "create = (p | \"Create\" >> Create(elements)\n",
    "            | 'With timestamps' >> Map(lambda x: window.TimestampedValue(x, x[\"time\"]))\n",
    "            | \"Add keys\" >> Map(key_value_fn))\n",
    "\n",
    "fixed = (create | \"FixedWindow\" >> WindowInto(window.FixedWindows(600))  # 10 min windows\n",
    "                | \"GBK Fixed\" >> GroupByKey())\n",
    "\n",
    "sliding = (create | \"Window\" >> WindowInto(window.SlidingWindows(600, period=300))  # 10 min windows, 5 min period\n",
    "                  | \"GBK Sliding\" >> GroupByKey())\n",
    "\n",
    "ib.show_graph(p)\n",
    "ib.show(fixed, sliding, include_window_info=True)"
   ]
  },
  {
   "cell_type": "markdown",
   "metadata": {},
   "source": [
    "The next cell will tell you the times in your time zone"
   ]
  },
  {
   "cell_type": "code",
   "execution_count": null,
   "metadata": {},
   "outputs": [],
   "source": [
    "timestamps = [1581870000, 1581870180, 1581870420, 1581871200, 1581870900]\n",
    "\n",
    "for timestamp in timestamps:\n",
    "    local_time = time.strftime('%Y-%m-%d %H:%M:%S', time.localtime(timestamp))\n",
    "    print(local_time)"
   ]
  },
  {
   "cell_type": "markdown",
   "metadata": {},
   "source": [
    "****\n",
    "**Take a good look at the output**. Note, for example, that Rebecca buying a controller is in two `SlidingWindows` (window from 16:30 to 16:40 and 16:35 to 16:45, UTC time), but only once in `FixedWindows`. "
   ]
  },
  {
   "cell_type": "markdown",
   "metadata": {},
   "source": [
    "\n",
    "In step `With timestamps`, we see how we can modify the element metadata adding/changing the timestamp. Some operations (as `PubSubIO`) have it built-in, and the timestamp is the sent-timestamp."
   ]
  },
  {
   "cell_type": "markdown",
   "metadata": {},
   "source": [
    "## Exercise"
   ]
  },
  {
   "cell_type": "markdown",
   "metadata": {},
   "source": [
    "We are generating elements of players, their score and a timestamp in Python dictionaries. We want to know the total score per player of every hour. We also need the average score of all players in the last hour, but we want it every 20 minutes.\n",
    "\n",
    "### Important note\n",
    "\n",
    "You need to use windows for this exercise, so you must add something to global combiners (i.e., `Count.Globally()`). The explanation of why you need to add that is below the solution of the exercise.\n",
    "\n",
    "<details><summary>Spoiler</summary>\n",
    "<p>\n",
    "\n",
    "Instead of using `Mean/Count.Globally()` by itself, we need to add:\n",
    " \n",
    " ```\n",
    "    Mean/Count.Globally().without_defaults()\n",
    " ```\n",
    "<br>\n",
    "    \n",
    "Note that `without_defaults()` for `Mean` was added recently in [Pull Request](https://github.com/apache/beam/pull/11943), and for the other built-in combiners (as `Count` or `Top`) in [Pull Request](https://github.com/apache/beam/pull/12074). Another approach for SDKs without the Pull Requests is:\n",
    "    \n",
    " ```\n",
    "   CombineGlobally(CountCombineFn()).without_defaults()\n",
    " ```\n",
    "</p>    \n",
    "</details>\n",
    "<br>\n",
    "\n",
    "\n",
    "Since we are going to test the pipeline, be sure to name the final pipelines `total` and `avg`. "
   ]
  },
  {
   "cell_type": "code",
   "execution_count": null,
   "metadata": {},
   "outputs": [],
   "source": [
    "from apache_beam.testing.util import assert_that\n",
    "from apache_beam.testing.util import matches_all, equal_to\n",
    "from utils.solutions import solutions"
   ]
  },
  {
   "cell_type": "code",
   "execution_count": null,
   "metadata": {},
   "outputs": [],
   "source": [
    "p = beam.Pipeline(InteractiveRunner())\n",
    "    \n",
    "scores = [\n",
    "    {\"player\":\"Marina\", \"score\":1000, \"timestamp\": \"2020-04-30 16:10\"},\n",
    "    {\"player\":\"Cristina\", \"score\":2000, \"timestamp\": \"2020-04-30 15:00\"},\n",
    "    {\"player\":\"Cristina\", \"score\":2000, \"timestamp\": \"2020-04-30 15:45\"},\n",
    "    {\"player\":\"Marina\", \"score\":3000, \"timestamp\": \"2020-04-30 16:30\"},\n",
    "    {\"player\":\"Juan\", \"score\":2000, \"timestamp\": \"2020-04-30 15:15\"},\n",
    "    {\"player\":\"Cristina\", \"score\":2000, \"timestamp\": \"2020-04-30 16:50\"},\n",
    "    {\"player\":\"Juan\", \"score\":1000, \"timestamp\": \"2020-04-30 16:59\"},     \n",
    "]\n",
    "\n",
    "def date2unix(string):\n",
    "    unix = int(time.mktime(datetime.strptime(string, \"%Y-%m-%d %H:%M\").timetuple()))\n",
    "    return unix\n",
    "\n",
    "# TODO: Finish the pipeline \n",
    "create = (p | \"Create\" >> Create(scores)\n",
    "            | \"Add timestamps\" >> Map(lambda x: window.TimestampedValue(x, date2unix(x[\"timestamp\"])))\n",
    "         )\n",
    "\n",
    "\n",
    "ib.show_graph(p)\n",
    "ib.show(total, avg, include_window_info=True)\n",
    "\n",
    "# For testing the solution - Don't modify\n",
    "assert_that(avg, equal_to(solutions[4][\"avg\"]), label=\"Average\")\n",
    "assert_that(total, equal_to(solutions[4][\"total\"]), label=\"total\")"
   ]
  },
  {
   "cell_type": "markdown",
   "metadata": {},
   "source": [
    "### Hints"
   ]
  },
  {
   "cell_type": "markdown",
   "metadata": {},
   "source": [
    "**Prepare elements for total per player**\n",
    "<details><summary>Hint</summary>\n",
    "<p>\n",
    "\n",
    "Our input elements are dictionaries, but you need key-value pairs to process those. A `Map` function does this.\n",
    "</p>\n",
    "</details>\n",
    "\n",
    "\n",
    "<details><summary>Code</summary>\n",
    "<p>\n",
    "\n",
    "```\n",
    "def toKV(element):\n",
    "    return (element[\"player\"], element[\"score\"])\n",
    "\n",
    "total = create | \"To KV\" >> Map(toKV) \n",
    "```\n",
    "</p>\n",
    "</details>"
   ]
  },
  {
   "cell_type": "markdown",
   "metadata": {},
   "source": [
    "**Prepare elements for average**\n",
    "<details><summary>Hint</summary>\n",
    "<p>\n",
    "\n",
    "Because the timestamp has already been used for the element timestamp, you only need to work with the scores. You can process the scores data with a `Map` function.\n",
    "</p>\n",
    "</details>\n",
    "\n",
    "\n",
    "<details><summary>Code</summary>\n",
    "<p>\n",
    "\n",
    "```\n",
    " avg =  create | \"Get Score\" >> Map(lambda x: x[\"score\"])\n",
    "```\n",
    "</p>\n",
    "</details>"
   ]
  },
  {
   "cell_type": "markdown",
   "metadata": {},
   "source": [
    "**Group elements for total per player**\n",
    "<details><summary>Hint</summary>\n",
    "<p>\n",
    "\n",
    "For the total per player you need to group every hour. A `FixedWindow` is the way to go.   \n",
    "</p>\n",
    "</details>\n",
    "\n",
    "<details><summary>Code</summary>\n",
    "<p>\n",
    "\n",
    "```\n",
    "   | \"FixedWindow\" >> WindowInto(window.FixedWindows(60 * 60))\n",
    "```\n",
    "</p>\n",
    "</details>"
   ]
  },
  {
   "cell_type": "markdown",
   "metadata": {},
   "source": [
    "**Group elements for average**\n",
    "<details><summary>Hint</summary>\n",
    "<p>\n",
    "\n",
    "In this case you want to group every hour, but get the value every 20 min, this means that there could be overlap in some elements. When in this situation, you need to use `SlidingWindows`.  \n",
    "</p>\n",
    "</details>\n",
    "\n",
    "\n",
    "<details><summary>Code</summary>\n",
    "<p>\n",
    "\n",
    "```\n",
    "    | \"SlidingWindow\" >> WindowInto(window.SlidingWindows(60 * 60, period=60 * 20))\n",
    "```\n",
    "\n",
    "</p>\n",
    "</details>"
   ]
  },
  {
   "cell_type": "markdown",
   "metadata": {},
   "source": [
    "**Process elements for total per player**\n",
    "<details><summary>Hint</summary>\n",
    "<p>\n",
    "\n",
    "You want to know the total score per player, so you are going to need a `PerKey` combiner, in this case `CombinePerKey` with a fn that sums the values in lists.\n",
    "</p>\n",
    "</details>\n",
    "\n",
    "\n",
    "<details><summary>Code</summary>\n",
    "<p>\n",
    "\n",
    "```\n",
    "   | \"Total Per Key\" >> CombinePerKey(sum))\n",
    "```\n",
    "</p>\n",
    "</details>"
   ]
  },
  {
   "cell_type": "markdown",
   "metadata": {},
   "source": [
    "**Process elements for average**\n",
    "<details><summary>Hint</summary>\n",
    "<p>\n",
    "\n",
    "This one is a bit tricker due to the note mentioned before. You are going to need a global combiner, since there are no keys (we only have scores as elements).\n",
    "</p>\n",
    "</details>\n",
    "\n",
    "<details><summary>Code</summary>\n",
    "<p>\n",
    "\n",
    "```\n",
    "    | Mean.Globally().without_defaults())      \n",
    "```\n",
    "</p>\n",
    "</details>"
   ]
  },
  {
   "cell_type": "markdown",
   "metadata": {},
   "source": [
    "**Full code**\n",
    "<details><summary>Code</summary>\n",
    "<p>\n",
    "\n",
    "```\n",
    "p = beam.Pipeline(InteractiveRunner())\n",
    "\n",
    "scores = [\n",
    "    {\"player\":\"Marina\", \"score\":1000, \"timestamp\": \"2020-04-30 16:10\"},\n",
    "    {\"player\":\"Cristina\", \"score\":2000, \"timestamp\": \"2020-04-30 15:00\"},\n",
    "    {\"player\":\"Cristina\", \"score\":2000, \"timestamp\": \"2020-04-30 15:45\"},\n",
    "    {\"player\":\"Marina\", \"score\":3000, \"timestamp\": \"2020-04-30 16:30\"},\n",
    "    {\"player\":\"Juan\", \"score\":2000, \"timestamp\": \"2020-04-30 15:15\"},\n",
    "    {\"player\":\"Cristina\", \"score\":2000, \"timestamp\": \"2020-04-30 16:50\"},\n",
    "    {\"player\":\"Juan\", \"score\":1000, \"timestamp\": \"2020-04-30 16:59\"},      \n",
    "]\n",
    "\n",
    "def date2unix(string):\n",
    "    unix = int(time.mktime(datetime.strptime(string, \"%Y-%m-%d %H:%M\").timetuple()))\n",
    "    return unix\n",
    "\n",
    "def toKV(element):\n",
    "    return (element[\"player\"], element[\"score\"])\n",
    "\n",
    "create = (p | \"Create\" >> Create(scores)\n",
    "            | \"Add timestamps\" >> Map(lambda x: window.TimestampedValue(x, date2unix(x[\"timestamp\"]))))\n",
    "\n",
    "total = (create | \"To KV\" >> Map(toKV) \n",
    "                | \"FixedWindow\" >> WindowInto(window.FixedWindows(60 * 60))\n",
    "                | \"Total Per Key\" >> CombinePerKey(sum))\n",
    "\n",
    "avg = (create | \"Get Score\" >> Map(lambda x: x[\"score\"])\n",
    "              | \"SlidingWindow\" >> WindowInto(window.SlidingWindows(60 * 60, period=60 * 20))\n",
    "              | Mean.Globally().without_defaults())\n",
    "\n",
    "ib.show_graph(p)\n",
    "ib.show([total, avg], include_window_info=True)\n",
    "\n",
    "# For testing the solution - Don't modify\n",
    "assert_that(avg, equal_to(solutions[4][\"avg\"]), label=\"Average\")\n",
    "assert_that(total, equal_to(solutions[4][\"total\"]), label=\"total\")\n",
    "```    \n",
    "\n",
    "</p>\n",
    "</details>"
   ]
  },
  {
   "cell_type": "markdown",
   "metadata": {},
   "source": [
    "## Explanation of `without_defaults`\n",
    "\n",
    "[Apache Beam documentation](https://beam.apache.org/documentation/programming-guide/#core-beam-transforms).\n",
    "\n",
    "When using a combiner, the default behavior of Beam is to return a `PCollection` containing one element (this depends on the combiner, but for example, the sum fn returns a 0). If you use Windows (apart from the `GlobalWindow`) the behavior is different. Using `without_defaults` makes the output empty if the Window doesn't have elements."
   ]
  }
 ],
 "metadata": {
  "language_info": {
   "codemirror_mode": {
    "name": "ipython",
    "version": 3
   },
   "file_extension": ".py",
   "mimetype": "text/x-python",
   "name": "python",
   "nbconvert_exporter": "python",
   "pygments_lexer": "ipython3",
   "version": "3.7.6"
  }
 },
 "nbformat": 4,
 "nbformat_minor": 4
}
