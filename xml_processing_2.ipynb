{
 "cells": [
  {
   "cell_type": "code",
   "execution_count": 1,
   "id": "72c6dbcd-c5af-48b4-93da-f73b4f60fc63",
   "metadata": {},
   "outputs": [
    {
     "name": "stdout",
     "output_type": "stream",
     "text": [
      "Requirement already satisfied: lxml in /opt/conda/lib/python3.7/site-packages (4.8.0)\n",
      "\u001b[33mWARNING: Running pip as the 'root' user can result in broken permissions and conflicting behaviour with the system package manager. It is recommended to use a virtual environment instead: https://pip.pypa.io/warnings/venv\u001b[0m\u001b[33m\n",
      "\u001b[0mNote: you may need to restart the kernel to use updated packages.\n"
     ]
    }
   ],
   "source": [
    "%pip install lxml"
   ]
  },
  {
   "cell_type": "code",
   "execution_count": 11,
   "id": "4900e02f-96d0-4b52-b55a-d872ccea1c98",
   "metadata": {},
   "outputs": [],
   "source": [
    "import re\n",
    "import pandas as pd\n",
    "from lxml import etree\n",
    "parser = etree.XMLParser(encoding='utf-8')\n",
    "# Reading the XML file\n",
    "docTree = etree.parse(\"pgs.jobxml\", parser)\n",
    "\n",
    "# Reading the configuration file to generate xpaths\n",
    "df = pd.read_csv(\"xmldata.csv\")\n",
    "\n",
    "# initialize the underlying json\n",
    "resultant_json = {\"proc\": {\"summary\": {\"title\": {\"text\": [], \"append_to_log\": []}}}}"
   ]
  },
  {
   "cell_type": "code",
   "execution_count": 33,
   "id": "2d3cad35-4743-45e8-815b-d42ecd0977a7",
   "metadata": {},
   "outputs": [
    {
     "name": "stdout",
     "output_type": "stream",
     "text": [
      "None\n",
      "\"value2\"\n"
     ]
    }
   ],
   "source": [
    "xpath=\"/Parser/job/proc/summary/Param/Path[text()='::title:append to log']/..\"\n",
    "for i in docTree.xpath(xpath):\n",
    "    #print(type(i.xpath(\"./Content\")))\n",
    "    if i.xpath(\"./Content\"):\n",
    "        #print(i.xpath(\"./Content\"))\n",
    "        print(i.xpath(\"./Content\")[0].text)\n",
    "    else:\n",
    "        print(None)\n",
    "    #print(i.xpath(\"./Content\"))\n",
    "#[book.get('author', None)  for book in tree.xpath('xpath')]\n",
    "#[element.text if element.text else None for element in docTree.xpath(xpath)]"
   ]
  },
  {
   "cell_type": "code",
   "execution_count": 14,
   "id": "bcd5358c-5299-45f3-afc3-8da28f7bd12f",
   "metadata": {},
   "outputs": [
    {
     "name": "stdout",
     "output_type": "stream",
     "text": [
      "{'text': [None, None], 'append_to_log': [None, '\"value2\"']}\n",
      "#\n",
      "{'auxiliary_headers_text_file': [None, '\"value2 auxillary\"']}\n",
      "#\n"
     ]
    }
   ],
   "source": [
    "# code2 \n",
    "import re\n",
    "import pandas as pd\n",
    "from lxml import etree\n",
    "parser = etree.XMLParser(encoding='utf-8')\n",
    "# Reading the XML file\n",
    "docTree = etree.parse(\"pgs.jobxml\", parser)\n",
    "\n",
    "import pandas as pd\n",
    "df = pd.read_csv(\"xmldata.csv\")\n",
    "#df.groupby(\"File tag\").filter(lambda gr: ~gr.File.str.contains(\"cream\").any())\n",
    "#print(df)\n",
    "for i, j in df.groupby(\"parent\"):\n",
    "    #print(i)\n",
    "    #print(j)\n",
    "    #print(\"#\")\n",
    "    values={}\n",
    "    for k, l in j.iterrows():\n",
    "        #print(l)\n",
    "        path_prefix = l['File node']\n",
    "        tag = str(l[\"File tag\"])\n",
    "        #print(tag)\n",
    "        xpath_constructor = ''\n",
    "        xpath_constructor = \"//\" + \"/\".join(path_prefix.split(\">\")) + \"/Param/Path[text()='{}']/..\".format(tag)\n",
    "        #print(tag)\n",
    "        tag_value = [re.sub(\"\\s\", \"_\", items.strip(\"::\")) for items in re.split(\"(?<!:):(?!:)\", tag)][-1]\n",
    "        #print(tag_value)\n",
    "        values[tag_value]=[]\n",
    "        for path in docTree.xpath(xpath_constructor):\n",
    "            if path.xpath(\"./Content\"):\n",
    "                values[tag_value].append((path.xpath(\"./Content\")[0].text))\n",
    "            else:\n",
    "                values[tag_value].append(None)\n",
    "        #print(values)\n",
    "        #print(\"#\")\n",
    "    print(values)\n",
    "    combined={}\n",
    "    #for q in combined:\n",
    "        \n",
    "    print(\"#\")"
   ]
  },
  {
   "cell_type": "code",
   "execution_count": 39,
   "id": "a423905a-09ac-4185-8f3a-0f1a83354471",
   "metadata": {},
   "outputs": [
    {
     "name": "stdout",
     "output_type": "stream",
     "text": [
      "[{'text': None, 'append_to_log': '\"value2\"'}]\n"
     ]
    }
   ],
   "source": [
    "# to convert {'text': [None, None], 'append_to_log': [None, '\"value2\"']} \n",
    "# to [{'text': None, 'append_to_log': '\"value2\"'}]\n",
    "a={'text': [None, None], 'append_to_log': [None, '\"value2\"']}\n",
    "v=[]\n",
    "first_value_len = len(list(a.values())[0])\n",
    "for i in range(first_value_len):\n",
    "    l={}\n",
    "    #print(i)\n",
    "    for qk, qv in a.items():\n",
    "        #print(qk)\n",
    "        l[qk] = qv[i]\n",
    "    if not all(value == None for value in l.values()):\n",
    "        v.append(l)\n",
    "\n",
    "print(v)"
   ]
  },
  {
   "cell_type": "code",
   "execution_count": 37,
   "id": "3a523e2f-17be-4978-a138-2ea493acac64",
   "metadata": {},
   "outputs": [
    {
     "data": {
      "text/plain": [
       "[None, None]"
      ]
     },
     "execution_count": 37,
     "metadata": {},
     "output_type": "execute_result"
    }
   ],
   "source": [
    "l={'text': None, 'append_to_log': None}\n",
    "all(value == None for value in l.values())\n",
    "a={'text': [None, None], 'append_to_log': [None, '\"value2\"']}\n",
    "list(a.values())[0]"
   ]
  },
  {
   "cell_type": "code",
   "execution_count": null,
   "id": "538ed13d-1e3a-42f0-be8d-8380976b4853",
   "metadata": {},
   "outputs": [],
   "source": [
    "#resultant_json = {\"proc\": {\"summary\": {\"title\": {\"text\": [], \"append_to_log\": []}}}}\n",
    "\n",
    "#resultant_json = {\"proc\": {\"summary\": {\"title\": [{\"append_to_tag\": \"\", \"text\": \"\"},]},\n",
    "#                                      {\"auxiliary_headers_text_file\": []}}}\n",
    "\n",
    "\n",
    "def get_item(resultant_json, path, value):\n",
    "    for item in path[:-1]:\n",
    "        resultant_json = resultant_json[item]\n",
    "    resultant_json[path[-1]].extend(value)\n",
    "    #print(value)\n",
    "    #print(resultant_json)\n",
    "\n",
    "for i, j in df.iterrows():\n",
    "    # Iterate through each row of the configuration file,\n",
    "    # Generate the xpath, pull the data from xml and dump the same to our json variable\n",
    "    \n",
    "    # path prefix - \"proc > summary\"\n",
    "    path_prefix = j['File node']\n",
    "    # tag - ::title:text\n",
    "    tag = j[\"File tag\"]\n",
    "\n",
    "    if not \"@\" in tag:\n",
    "        # A logic to not include Record header\n",
    "        xpath_constrcutor = ''\n",
    "        xpath_constrcutor = \"//\" + \"/\".join(path_prefix.split(\">\")) + \"/Param/Path[text()='{}']/../Content\".format(tag)\n",
    "        \n",
    "        # Constructed XPATH - //proc/summary/Param/Path[text()='::title:text']/../Content\n",
    "        # get the value from the constructed xpath\n",
    "        value = [element.text for element in docTree.xpath(xpath_constrcutor)]\n",
    "        # get the json path to populate values there\n",
    "        #tag_list = []\n",
    "        #tag_list.extend(path_prefix.split(\">\"))\n",
    "        #tag_list.extend([re.sub(\"\\s\", \"_\", items.strip(\"::\")) for items in re.split(\"(?<!:):(?!:)\", tag)])\n",
    "        #tag_list = [element.strip() for element in tag_list]\n",
    "        # get_item - method to populate the value to the json\n",
    "        #get_item(resultant_json, tag_list, value)\n",
    "        \n",
    "\n",
    "print(resultant_json)\n",
    "# resultant_json - {'proc': {'summary': {'title': {'text': [], 'append_to_log': ['\"value1\"', '\"value2\"']}}}}"
   ]
  },
  {
   "cell_type": "code",
   "execution_count": null,
   "id": "03e61aa5-8bcb-4a79-ac18-46ebfaa86e11",
   "metadata": {},
   "outputs": [],
   "source": [
    "\n",
    "resultant_json = {\"proc\": {\"summary\": {\"title\": [{\"append_to_tag\": \"\", \"text\": \"\"},]},\n",
    "                                      {\"auxiliary_headers_text_file\": []}}}\n",
    "\n",
    "\n",
    "def get_item(resultant_json, path, value):\n",
    "    for item in path[:-1]:\n",
    "        resultant_json = resultant_json[item]\n",
    "    resultant_json[path[-1]].extend(value)\n",
    "    #print(value)\n",
    "    #print(resultant_json)\n",
    "\n",
    "for i, j in df.iterrows():\n",
    "    # Iterate through each row of the configuration file,\n",
    "    # Generate the xpath, pull the data from xml and dump the same to our json variable\n",
    "    \n",
    "    # path prefix - \"proc > summary\"\n",
    "    path_prefix = j['File node']\n",
    "    # tag - ::title:text\n",
    "    tag = j[\"File tag\"]\n",
    "\n",
    "    if not \"@\" in tag:\n",
    "        # A logic to not include Record header\n",
    "        xpath_constrcutor = ''\n",
    "        xpath_constrcutor = \"//\" + \"/\".join(path_prefix.split(\">\")) + \"/Param/Path[text()='{}']/../Content\".format(tag)\n",
    "        # Constructed XPATH - //proc/summary/Param/Path[text()='::title:text']/../Content\n",
    "        # get the value from the constructed xpath\n",
    "        value = [element.text for element in docTree.xpath(xpath_constrcutor)]\n",
    "        # get the json path to populate values there\n",
    "        tag_list = []\n",
    "        tag_list.extend(path_prefix.split(\">\"))\n",
    "        tag_list.extend([re.sub(\"\\s\", \"_\", items.strip(\"::\")) for items in re.split(\"(?<!:):(?!:)\", tag)])\n",
    "        tag_list = [element.strip() for element in tag_list]\n",
    "        # get_item - method to populate the value to the json\n",
    "        get_item(resultant_json, tag_list, value)\n",
    "        \n",
    "\n",
    "print(resultant_json)\n",
    "# resultant_json - {'proc': {'summary': {'title': {'text': [], 'append_to_log': ['\"value1\"', '\"value2\"']}}}}"
   ]
  }
 ],
 "metadata": {
  "kernelspec": {
   "display_name": "Python 3 (ipykernel)",
   "language": "python",
   "name": "python3"
  },
  "language_info": {
   "codemirror_mode": {
    "name": "ipython",
    "version": 3
   },
   "file_extension": ".py",
   "mimetype": "text/x-python",
   "name": "python",
   "nbconvert_exporter": "python",
   "pygments_lexer": "ipython3",
   "version": "3.7.12"
  }
 },
 "nbformat": 4,
 "nbformat_minor": 5
}
