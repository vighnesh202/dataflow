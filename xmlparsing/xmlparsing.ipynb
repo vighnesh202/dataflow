{
 "cells": [
  {
   "cell_type": "code",
   "execution_count": 15,
   "id": "bb6e7aef-c4c5-4e37-9081-55b1d070c3fc",
   "metadata": {},
   "outputs": [
    {
     "name": "stdout",
     "output_type": "stream",
     "text": [
      "Reading package lists... Done\n",
      "Building dependency tree       \n",
      "Reading state information... Done\n",
      "python3-xmltodict is already the newest version (0.12.0-1).\n",
      "0 upgraded, 0 newly installed, 0 to remove and 9 not upgraded.\n"
     ]
    }
   ],
   "source": [
    "!sudo apt-get install -y python3-xmltodict\n",
    "import xmltodict"
   ]
  },
  {
   "cell_type": "code",
   "execution_count": 16,
   "id": "09effdf0-9d0a-4b03-8299-75a4451f7031",
   "metadata": {},
   "outputs": [],
   "source": [
    "import logging\n",
    "import apache_beam as beam\n",
    "from apache_beam.runners.interactive.interactive_runner import InteractiveRunner\n",
    "import apache_beam.runners.interactive.interactive_beam as ib"
   ]
  },
  {
   "cell_type": "code",
   "execution_count": 65,
   "id": "f5d783ae-d29f-406f-84c7-4b072c3cef6e",
   "metadata": {},
   "outputs": [],
   "source": [
    "def parse_into_dict(xmlfile):\n",
    "    import xmltodict\n",
    "    with open(xmlfile) as ifp:\n",
    "        doc = xmltodict.parse(ifp.read())\n",
    "        #print(doc)\n",
    "        #print(\"%%\")\n",
    "        return doc"
   ]
  },
  {
   "cell_type": "code",
   "execution_count": 66,
   "id": "3e7a23ee-9c49-4d2a-874a-051f5664376b",
   "metadata": {},
   "outputs": [
    {
     "name": "stdout",
     "output_type": "stream",
     "text": [
      "OrderedDict([('Root', OrderedDict([('@xmlns', 'http://www.adventure-works.com'), ('Orders', OrderedDict([('Order', [OrderedDict([('CustomerID', 'GREAL'), ('EmployeeID', '6'), ('OrderDate', '1997-05-06T00:00:00'), ('RequiredDate', '1997-05-20T00:00:00'), ('ShipInfo', OrderedDict([('@ShippedDate', '1997-05-09T00:00:00'), ('ShipVia', '2'), ('Freight', '3.35'), ('ShipName', 'Great Lakes Food Market'), ('ShipAddress', '2732 Baker Blvd.'), ('ShipCity', 'Eugene'), ('ShipRegion', 'OR'), ('ShipPostalCode', '97403'), ('ShipCountry', 'USA')]))]), OrderedDict([('CustomerID', 'GREAL'), ('EmployeeID', '8'), ('OrderDate', '1997-07-04T00:00:00'), ('RequiredDate', '1997-08-01T00:00:00'), ('ShipInfo', OrderedDict([('@ShippedDate', '1997-07-14T00:00:00'), ('ShipVia', '2'), ('Freight', '4.42'), ('ShipName', 'Great Lakes Food Market'), ('ShipAddress', '2732 Baker Blvd.'), ('ShipCity', 'Eugene'), ('ShipRegion', 'OR'), ('ShipPostalCode', '97403'), ('ShipCountry', 'USA')]))]), OrderedDict([('CustomerID', 'GREAL'), ('EmployeeID', '1'), ('OrderDate', '1997-07-31T00:00:00'), ('RequiredDate', '1997-08-28T00:00:00'), ('ShipInfo', OrderedDict([('@ShippedDate', '1997-08-05T00:00:00'), ('ShipVia', '2'), ('Freight', '116.53'), ('ShipName', 'Great Lakes Food Market'), ('ShipAddress', '2732 Baker Blvd.'), ('ShipCity', 'Eugene'), ('ShipRegion', 'OR'), ('ShipPostalCode', '97403'), ('ShipCountry', 'USA')]))]), OrderedDict([('CustomerID', 'GREAL'), ('EmployeeID', '4'), ('OrderDate', '1997-07-31T00:00:00'), ('RequiredDate', '1997-08-28T00:00:00'), ('ShipInfo', OrderedDict([('@ShippedDate', '1997-08-04T00:00:00'), ('ShipVia', '2'), ('Freight', '18.53'), ('ShipName', 'Great Lakes Food Market'), ('ShipAddress', '2732 Baker Blvd.'), ('ShipCity', 'Eugene'), ('ShipRegion', 'OR'), ('ShipPostalCode', '97403'), ('ShipCountry', 'USA')]))]), OrderedDict([('CustomerID', 'GREAL'), ('EmployeeID', '6'), ('OrderDate', '1997-09-04T00:00:00'), ('RequiredDate', '1997-10-02T00:00:00'), ('ShipInfo', OrderedDict([('@ShippedDate', '1997-09-10T00:00:00'), ('ShipVia', '1'), ('Freight', '57.15'), ('ShipName', 'Great Lakes Food Market'), ('ShipAddress', '2732 Baker Blvd.'), ('ShipCity', 'Eugene'), ('ShipRegion', 'OR'), ('ShipPostalCode', '97403'), ('ShipCountry', 'USA')]))]), OrderedDict([('CustomerID', 'GREAL'), ('EmployeeID', '3'), ('OrderDate', '1997-09-25T00:00:00'), ('RequiredDate', '1997-10-23T00:00:00'), ('ShipInfo', OrderedDict([('@ShippedDate', '1997-09-30T00:00:00'), ('ShipVia', '3'), ('Freight', '76.13'), ('ShipName', 'Great Lakes Food Market'), ('ShipAddress', '2732 Baker Blvd.'), ('ShipCity', 'Eugene'), ('ShipRegion', 'OR'), ('ShipPostalCode', '97403'), ('ShipCountry', 'USA')]))]), OrderedDict([('CustomerID', 'GREAL'), ('EmployeeID', '4'), ('OrderDate', '1998-01-06T00:00:00'), ('RequiredDate', '1998-02-03T00:00:00'), ('ShipInfo', OrderedDict([('@ShippedDate', '1998-02-04T00:00:00'), ('ShipVia', '2'), ('Freight', '719.78'), ('ShipName', 'Great Lakes Food Market'), ('ShipAddress', '2732 Baker Blvd.'), ('ShipCity', 'Eugene'), ('ShipRegion', 'OR'), ('ShipPostalCode', '97403'), ('ShipCountry', 'USA')]))]), OrderedDict([('CustomerID', 'GREAL'), ('EmployeeID', '3'), ('OrderDate', '1998-03-09T00:00:00'), ('RequiredDate', '1998-04-06T00:00:00'), ('ShipInfo', OrderedDict([('@ShippedDate', '1998-03-18T00:00:00'), ('ShipVia', '2'), ('Freight', '33.68'), ('ShipName', 'Great Lakes Food Market'), ('ShipAddress', '2732 Baker Blvd.'), ('ShipCity', 'Eugene'), ('ShipRegion', 'OR'), ('ShipPostalCode', '97403'), ('ShipCountry', 'USA')]))]), OrderedDict([('CustomerID', 'GREAL'), ('EmployeeID', '3'), ('OrderDate', '1998-04-07T00:00:00'), ('RequiredDate', '1998-05-05T00:00:00'), ('ShipInfo', OrderedDict([('@ShippedDate', '1998-04-15T00:00:00'), ('ShipVia', '2'), ('Freight', '25.19'), ('ShipName', 'Great Lakes Food Market'), ('ShipAddress', '2732 Baker Blvd.'), ('ShipCity', 'Eugene'), ('ShipRegion', 'OR'), ('ShipPostalCode', '97403'), ('ShipCountry', 'USA')]))]), OrderedDict([('CustomerID', 'GREAL'), ('EmployeeID', '4'), ('OrderDate', '1998-04-22T00:00:00'), ('RequiredDate', '1998-05-20T00:00:00'), ('ShipInfo', OrderedDict([('ShipVia', '3'), ('Freight', '18.84'), ('ShipName', 'Great Lakes Food Market'), ('ShipAddress', '2732 Baker Blvd.'), ('ShipCity', 'Eugene'), ('ShipRegion', 'OR'), ('ShipPostalCode', '97403'), ('ShipCountry', 'USA')]))]), OrderedDict([('CustomerID', 'GREAL'), ('EmployeeID', '4'), ('OrderDate', '1998-04-30T00:00:00'), ('RequiredDate', '1998-06-11T00:00:00'), ('ShipInfo', OrderedDict([('ShipVia', '3'), ('Freight', '14.01'), ('ShipName', 'Great Lakes Food Market'), ('ShipAddress', '2732 Baker Blvd.'), ('ShipCity', 'Eugene'), ('ShipRegion', 'OR'), ('ShipPostalCode', '97403'), ('ShipCountry', 'USA')]))]), OrderedDict([('CustomerID', 'HUNGC'), ('EmployeeID', '3'), ('OrderDate', '1996-12-06T00:00:00'), ('RequiredDate', '1997-01-03T00:00:00'), ('ShipInfo', OrderedDict([('@ShippedDate', '1996-12-09T00:00:00'), ('ShipVia', '2'), ('Freight', '20.12'), ('ShipName', 'Hungry Coyote Import Store'), ('ShipAddress', 'City Center Plaza 516 Main St.'), ('ShipCity', 'Elgin'), ('ShipRegion', 'OR'), ('ShipPostalCode', '97827'), ('ShipCountry', 'USA')]))]), OrderedDict([('CustomerID', 'HUNGC'), ('EmployeeID', '1'), ('OrderDate', '1996-12-25T00:00:00'), ('RequiredDate', '1997-01-22T00:00:00'), ('ShipInfo', OrderedDict([('@ShippedDate', '1997-01-03T00:00:00'), ('ShipVia', '3'), ('Freight', '30.34'), ('ShipName', 'Hungry Coyote Import Store'), ('ShipAddress', 'City Center Plaza 516 Main St.'), ('ShipCity', 'Elgin'), ('ShipRegion', 'OR'), ('ShipPostalCode', '97827'), ('ShipCountry', 'USA')]))]), OrderedDict([('CustomerID', 'HUNGC'), ('EmployeeID', '3'), ('OrderDate', '1997-01-15T00:00:00'), ('RequiredDate', '1997-02-12T00:00:00'), ('ShipInfo', OrderedDict([('@ShippedDate', '1997-01-24T00:00:00'), ('ShipVia', '1'), ('Freight', '0.2'), ('ShipName', 'Hungry Coyote Import Store'), ('ShipAddress', 'City Center Plaza 516 Main St.'), ('ShipCity', 'Elgin'), ('ShipRegion', 'OR'), ('ShipPostalCode', '97827'), ('ShipCountry', 'USA')]))]), OrderedDict([('CustomerID', 'HUNGC'), ('EmployeeID', '4'), ('OrderDate', '1997-07-16T00:00:00'), ('RequiredDate', '1997-08-13T00:00:00'), ('ShipInfo', OrderedDict([('@ShippedDate', '1997-07-21T00:00:00'), ('ShipVia', '1'), ('Freight', '45.13'), ('ShipName', 'Hungry Coyote Import Store'), ('ShipAddress', 'City Center Plaza 516 Main St.'), ('ShipCity', 'Elgin'), ('ShipRegion', 'OR'), ('ShipPostalCode', '97827'), ('ShipCountry', 'USA')]))]), OrderedDict([('CustomerID', 'HUNGC'), ('EmployeeID', '8'), ('OrderDate', '1997-09-08T00:00:00'), ('RequiredDate', '1997-10-06T00:00:00'), ('ShipInfo', OrderedDict([('@ShippedDate', '1997-10-15T00:00:00'), ('ShipVia', '1'), ('Freight', '111.29'), ('ShipName', 'Hungry Coyote Import Store'), ('ShipAddress', 'City Center Plaza 516 Main St.'), ('ShipCity', 'Elgin'), ('ShipRegion', 'OR'), ('ShipPostalCode', '97827'), ('ShipCountry', 'USA')]))]), OrderedDict([('CustomerID', 'LAZYK'), ('EmployeeID', '1'), ('OrderDate', '1997-03-21T00:00:00'), ('RequiredDate', '1997-04-18T00:00:00'), ('ShipInfo', OrderedDict([('@ShippedDate', '1997-04-10T00:00:00'), ('ShipVia', '3'), ('Freight', '7.48'), ('ShipName', 'Lazy K Kountry Store'), ('ShipAddress', '12 Orchestra Terrace'), ('ShipCity', 'Walla Walla'), ('ShipRegion', 'WA'), ('ShipPostalCode', '99362'), ('ShipCountry', 'USA')]))]), OrderedDict([('CustomerID', 'LAZYK'), ('EmployeeID', '8'), ('OrderDate', '1997-05-22T00:00:00'), ('RequiredDate', '1997-06-19T00:00:00'), ('ShipInfo', OrderedDict([('@ShippedDate', '1997-06-26T00:00:00'), ('ShipVia', '2'), ('Freight', '11.92'), ('ShipName', 'Lazy K Kountry Store'), ('ShipAddress', '12 Orchestra Terrace'), ('ShipCity', 'Walla Walla'), ('ShipRegion', 'WA'), ('ShipPostalCode', '99362'), ('ShipCountry', 'USA')]))]), OrderedDict([('CustomerID', 'LETSS'), ('EmployeeID', '1'), ('OrderDate', '1997-06-25T00:00:00'), ('RequiredDate', '1997-07-23T00:00:00'), ('ShipInfo', OrderedDict([('@ShippedDate', '1997-07-04T00:00:00'), ('ShipVia', '2'), ('Freight', '13.73'), ('ShipName', \"Let's Stop N Shop\"), ('ShipAddress', '87 Polk St. Suite 5'), ('ShipCity', 'San Francisco'), ('ShipRegion', 'CA'), ('ShipPostalCode', '94117'), ('ShipCountry', 'USA')]))]), OrderedDict([('CustomerID', 'LETSS'), ('EmployeeID', '8'), ('OrderDate', '1997-10-27T00:00:00'), ('RequiredDate', '1997-11-24T00:00:00'), ('ShipInfo', OrderedDict([('@ShippedDate', '1997-11-05T00:00:00'), ('ShipVia', '2'), ('Freight', '51.44'), ('ShipName', \"Let's Stop N Shop\"), ('ShipAddress', '87 Polk St. Suite 5'), ('ShipCity', 'San Francisco'), ('ShipRegion', 'CA'), ('ShipPostalCode', '94117'), ('ShipCountry', 'USA')]))]), OrderedDict([('CustomerID', 'LETSS'), ('EmployeeID', '6'), ('OrderDate', '1997-11-10T00:00:00'), ('RequiredDate', '1997-12-08T00:00:00'), ('ShipInfo', OrderedDict([('@ShippedDate', '1997-11-21T00:00:00'), ('ShipVia', '2'), ('Freight', '45.97'), ('ShipName', \"Let's Stop N Shop\"), ('ShipAddress', '87 Polk St. Suite 5'), ('ShipCity', 'San Francisco'), ('ShipRegion', 'CA'), ('ShipPostalCode', '94117'), ('ShipCountry', 'USA')]))]), OrderedDict([('CustomerID', 'LETSS'), ('EmployeeID', '4'), ('OrderDate', '1998-02-12T00:00:00'), ('RequiredDate', '1998-03-12T00:00:00'), ('ShipInfo', OrderedDict([('@ShippedDate', '1998-02-13T00:00:00'), ('ShipVia', '2'), ('Freight', '90.97'), ('ShipName', \"Let's Stop N Shop\"), ('ShipAddress', '87 Polk St. Suite 5'), ('ShipCity', 'San Francisco'), ('ShipRegion', 'CA'), ('ShipPostalCode', '94117'), ('ShipCountry', 'USA')]))])])]))]))])\n"
     ]
    }
   ],
   "source": [
    "document = parse_into_dict('orders.xml')\n",
    "print(document)"
   ]
  },
  {
   "cell_type": "code",
   "execution_count": 67,
   "id": "2ec4927a-8f37-42ec-96c5-e21424667318",
   "metadata": {},
   "outputs": [],
   "source": [
    "table_schema = {\n",
    "    'fields': [\n",
    "        {'name' : 'CustomerID', 'type': 'STRING', 'mode': 'NULLABLE'},\n",
    "        {'name' : 'EmployeeID', 'type': 'STRING', 'mode': 'NULLABLE'},\n",
    "        {'name' : 'OrderDate', 'type': 'STRING', 'mode': 'NULLABLE'},\n",
    "        {'name' : 'RequiredDate', 'type': 'STRING', 'mode': 'NULLABLE'},\n",
    "        {'name' : 'ShipInfo', 'type': 'RECORD', 'mode': 'NULLABLE', 'fields': [\n",
    "            {'name' : 'ShipVia', 'type': 'STRING', 'mode': 'NULLABLE'},\n",
    "            {'name' : 'Freight', 'type': 'STRING', 'mode': 'NULLABLE'},\n",
    "            {'name' : 'ShipName', 'type': 'STRING', 'mode': 'NULLABLE'},\n",
    "            {'name' : 'ShipAddress', 'type': 'STRING', 'mode': 'NULLABLE'},\n",
    "            {'name' : 'ShipCity', 'type': 'STRING', 'mode': 'NULLABLE'},\n",
    "            {'name' : 'ShipRegion', 'type': 'STRING', 'mode': 'NULLABLE'},\n",
    "            {'name' : 'ShipPostalCode', 'type': 'STRING', 'mode': 'NULLABLE'},\n",
    "            {'name' : 'ShipCountry', 'type': 'STRING', 'mode': 'NULLABLE'},\n",
    "            {'name' : 'ShippedDate', 'type': 'STRING', 'mode': 'NULLABLE'},\n",
    "        ]},\n",
    "    ]\n",
    "}"
   ]
  },
  {
   "cell_type": "code",
   "execution_count": 86,
   "id": "5ee91c67-2fab-4198-af7d-f7424d026bc9",
   "metadata": {},
   "outputs": [],
   "source": [
    "def cleanup(x):\n",
    "    import copy\n",
    "    y = copy.deepcopy(x)\n",
    "    #print(x)\n",
    "    if '@ShippedDate' in x['ShipInfo']:\n",
    "        #print(\"#######\")# optional attribute\n",
    "        y['ShipInfo']['ShippedDate'] = x['ShipInfo']['@ShippedDate']\n",
    "        del y['ShipInfo']['@ShippedDate']\n",
    "    #print(y)\n",
    "    return y"
   ]
  },
  {
   "cell_type": "code",
   "execution_count": 87,
   "id": "98acddcd-012e-4e58-a23f-5299d69f6c81",
   "metadata": {},
   "outputs": [],
   "source": [
    "def get_orders(doc):\n",
    "    #print(doc)\n",
    "    for order in doc['Root']['Orders']['Order']:\n",
    "        yield cleanup(order)"
   ]
  },
  {
   "cell_type": "code",
   "execution_count": 88,
   "id": "d0cf5e5c-ee87-4c16-bff6-4e5bf4d01eb3",
   "metadata": {},
   "outputs": [
    {
     "name": "stdout",
     "output_type": "stream",
     "text": [
      "OrderedDict([('CustomerID', 'GREAL'), ('EmployeeID', '6'), ('OrderDate', '1997-05-06T00:00:00'), ('RequiredDate', '1997-05-20T00:00:00'), ('ShipInfo', OrderedDict([('ShipVia', '2'), ('Freight', '3.35'), ('ShipName', 'Great Lakes Food Market'), ('ShipAddress', '2732 Baker Blvd.'), ('ShipCity', 'Eugene'), ('ShipRegion', 'OR'), ('ShipPostalCode', '97403'), ('ShipCountry', 'USA'), ('ShippedDate', '1997-05-09T00:00:00')]))])\n",
      "OrderedDict([('CustomerID', 'GREAL'), ('EmployeeID', '8'), ('OrderDate', '1997-07-04T00:00:00'), ('RequiredDate', '1997-08-01T00:00:00'), ('ShipInfo', OrderedDict([('ShipVia', '2'), ('Freight', '4.42'), ('ShipName', 'Great Lakes Food Market'), ('ShipAddress', '2732 Baker Blvd.'), ('ShipCity', 'Eugene'), ('ShipRegion', 'OR'), ('ShipPostalCode', '97403'), ('ShipCountry', 'USA'), ('ShippedDate', '1997-07-14T00:00:00')]))])\n",
      "OrderedDict([('CustomerID', 'GREAL'), ('EmployeeID', '1'), ('OrderDate', '1997-07-31T00:00:00'), ('RequiredDate', '1997-08-28T00:00:00'), ('ShipInfo', OrderedDict([('ShipVia', '2'), ('Freight', '116.53'), ('ShipName', 'Great Lakes Food Market'), ('ShipAddress', '2732 Baker Blvd.'), ('ShipCity', 'Eugene'), ('ShipRegion', 'OR'), ('ShipPostalCode', '97403'), ('ShipCountry', 'USA'), ('ShippedDate', '1997-08-05T00:00:00')]))])\n",
      "OrderedDict([('CustomerID', 'GREAL'), ('EmployeeID', '4'), ('OrderDate', '1997-07-31T00:00:00'), ('RequiredDate', '1997-08-28T00:00:00'), ('ShipInfo', OrderedDict([('ShipVia', '2'), ('Freight', '18.53'), ('ShipName', 'Great Lakes Food Market'), ('ShipAddress', '2732 Baker Blvd.'), ('ShipCity', 'Eugene'), ('ShipRegion', 'OR'), ('ShipPostalCode', '97403'), ('ShipCountry', 'USA'), ('ShippedDate', '1997-08-04T00:00:00')]))])\n",
      "OrderedDict([('CustomerID', 'GREAL'), ('EmployeeID', '6'), ('OrderDate', '1997-09-04T00:00:00'), ('RequiredDate', '1997-10-02T00:00:00'), ('ShipInfo', OrderedDict([('ShipVia', '1'), ('Freight', '57.15'), ('ShipName', 'Great Lakes Food Market'), ('ShipAddress', '2732 Baker Blvd.'), ('ShipCity', 'Eugene'), ('ShipRegion', 'OR'), ('ShipPostalCode', '97403'), ('ShipCountry', 'USA'), ('ShippedDate', '1997-09-10T00:00:00')]))])\n",
      "OrderedDict([('CustomerID', 'GREAL'), ('EmployeeID', '3'), ('OrderDate', '1997-09-25T00:00:00'), ('RequiredDate', '1997-10-23T00:00:00'), ('ShipInfo', OrderedDict([('ShipVia', '3'), ('Freight', '76.13'), ('ShipName', 'Great Lakes Food Market'), ('ShipAddress', '2732 Baker Blvd.'), ('ShipCity', 'Eugene'), ('ShipRegion', 'OR'), ('ShipPostalCode', '97403'), ('ShipCountry', 'USA'), ('ShippedDate', '1997-09-30T00:00:00')]))])\n",
      "OrderedDict([('CustomerID', 'GREAL'), ('EmployeeID', '4'), ('OrderDate', '1998-01-06T00:00:00'), ('RequiredDate', '1998-02-03T00:00:00'), ('ShipInfo', OrderedDict([('ShipVia', '2'), ('Freight', '719.78'), ('ShipName', 'Great Lakes Food Market'), ('ShipAddress', '2732 Baker Blvd.'), ('ShipCity', 'Eugene'), ('ShipRegion', 'OR'), ('ShipPostalCode', '97403'), ('ShipCountry', 'USA'), ('ShippedDate', '1998-02-04T00:00:00')]))])\n",
      "OrderedDict([('CustomerID', 'GREAL'), ('EmployeeID', '3'), ('OrderDate', '1998-03-09T00:00:00'), ('RequiredDate', '1998-04-06T00:00:00'), ('ShipInfo', OrderedDict([('ShipVia', '2'), ('Freight', '33.68'), ('ShipName', 'Great Lakes Food Market'), ('ShipAddress', '2732 Baker Blvd.'), ('ShipCity', 'Eugene'), ('ShipRegion', 'OR'), ('ShipPostalCode', '97403'), ('ShipCountry', 'USA'), ('ShippedDate', '1998-03-18T00:00:00')]))])\n",
      "OrderedDict([('CustomerID', 'GREAL'), ('EmployeeID', '3'), ('OrderDate', '1998-04-07T00:00:00'), ('RequiredDate', '1998-05-05T00:00:00'), ('ShipInfo', OrderedDict([('ShipVia', '2'), ('Freight', '25.19'), ('ShipName', 'Great Lakes Food Market'), ('ShipAddress', '2732 Baker Blvd.'), ('ShipCity', 'Eugene'), ('ShipRegion', 'OR'), ('ShipPostalCode', '97403'), ('ShipCountry', 'USA'), ('ShippedDate', '1998-04-15T00:00:00')]))])\n",
      "OrderedDict([('CustomerID', 'GREAL'), ('EmployeeID', '4'), ('OrderDate', '1998-04-22T00:00:00'), ('RequiredDate', '1998-05-20T00:00:00'), ('ShipInfo', OrderedDict([('ShipVia', '3'), ('Freight', '18.84'), ('ShipName', 'Great Lakes Food Market'), ('ShipAddress', '2732 Baker Blvd.'), ('ShipCity', 'Eugene'), ('ShipRegion', 'OR'), ('ShipPostalCode', '97403'), ('ShipCountry', 'USA')]))])\n",
      "OrderedDict([('CustomerID', 'GREAL'), ('EmployeeID', '4'), ('OrderDate', '1998-04-30T00:00:00'), ('RequiredDate', '1998-06-11T00:00:00'), ('ShipInfo', OrderedDict([('ShipVia', '3'), ('Freight', '14.01'), ('ShipName', 'Great Lakes Food Market'), ('ShipAddress', '2732 Baker Blvd.'), ('ShipCity', 'Eugene'), ('ShipRegion', 'OR'), ('ShipPostalCode', '97403'), ('ShipCountry', 'USA')]))])\n",
      "OrderedDict([('CustomerID', 'HUNGC'), ('EmployeeID', '3'), ('OrderDate', '1996-12-06T00:00:00'), ('RequiredDate', '1997-01-03T00:00:00'), ('ShipInfo', OrderedDict([('ShipVia', '2'), ('Freight', '20.12'), ('ShipName', 'Hungry Coyote Import Store'), ('ShipAddress', 'City Center Plaza 516 Main St.'), ('ShipCity', 'Elgin'), ('ShipRegion', 'OR'), ('ShipPostalCode', '97827'), ('ShipCountry', 'USA'), ('ShippedDate', '1996-12-09T00:00:00')]))])\n",
      "OrderedDict([('CustomerID', 'HUNGC'), ('EmployeeID', '1'), ('OrderDate', '1996-12-25T00:00:00'), ('RequiredDate', '1997-01-22T00:00:00'), ('ShipInfo', OrderedDict([('ShipVia', '3'), ('Freight', '30.34'), ('ShipName', 'Hungry Coyote Import Store'), ('ShipAddress', 'City Center Plaza 516 Main St.'), ('ShipCity', 'Elgin'), ('ShipRegion', 'OR'), ('ShipPostalCode', '97827'), ('ShipCountry', 'USA'), ('ShippedDate', '1997-01-03T00:00:00')]))])\n",
      "OrderedDict([('CustomerID', 'HUNGC'), ('EmployeeID', '3'), ('OrderDate', '1997-01-15T00:00:00'), ('RequiredDate', '1997-02-12T00:00:00'), ('ShipInfo', OrderedDict([('ShipVia', '1'), ('Freight', '0.2'), ('ShipName', 'Hungry Coyote Import Store'), ('ShipAddress', 'City Center Plaza 516 Main St.'), ('ShipCity', 'Elgin'), ('ShipRegion', 'OR'), ('ShipPostalCode', '97827'), ('ShipCountry', 'USA'), ('ShippedDate', '1997-01-24T00:00:00')]))])\n",
      "OrderedDict([('CustomerID', 'HUNGC'), ('EmployeeID', '4'), ('OrderDate', '1997-07-16T00:00:00'), ('RequiredDate', '1997-08-13T00:00:00'), ('ShipInfo', OrderedDict([('ShipVia', '1'), ('Freight', '45.13'), ('ShipName', 'Hungry Coyote Import Store'), ('ShipAddress', 'City Center Plaza 516 Main St.'), ('ShipCity', 'Elgin'), ('ShipRegion', 'OR'), ('ShipPostalCode', '97827'), ('ShipCountry', 'USA'), ('ShippedDate', '1997-07-21T00:00:00')]))])\n",
      "OrderedDict([('CustomerID', 'HUNGC'), ('EmployeeID', '8'), ('OrderDate', '1997-09-08T00:00:00'), ('RequiredDate', '1997-10-06T00:00:00'), ('ShipInfo', OrderedDict([('ShipVia', '1'), ('Freight', '111.29'), ('ShipName', 'Hungry Coyote Import Store'), ('ShipAddress', 'City Center Plaza 516 Main St.'), ('ShipCity', 'Elgin'), ('ShipRegion', 'OR'), ('ShipPostalCode', '97827'), ('ShipCountry', 'USA'), ('ShippedDate', '1997-10-15T00:00:00')]))])\n",
      "OrderedDict([('CustomerID', 'LAZYK'), ('EmployeeID', '1'), ('OrderDate', '1997-03-21T00:00:00'), ('RequiredDate', '1997-04-18T00:00:00'), ('ShipInfo', OrderedDict([('ShipVia', '3'), ('Freight', '7.48'), ('ShipName', 'Lazy K Kountry Store'), ('ShipAddress', '12 Orchestra Terrace'), ('ShipCity', 'Walla Walla'), ('ShipRegion', 'WA'), ('ShipPostalCode', '99362'), ('ShipCountry', 'USA'), ('ShippedDate', '1997-04-10T00:00:00')]))])\n",
      "OrderedDict([('CustomerID', 'LAZYK'), ('EmployeeID', '8'), ('OrderDate', '1997-05-22T00:00:00'), ('RequiredDate', '1997-06-19T00:00:00'), ('ShipInfo', OrderedDict([('ShipVia', '2'), ('Freight', '11.92'), ('ShipName', 'Lazy K Kountry Store'), ('ShipAddress', '12 Orchestra Terrace'), ('ShipCity', 'Walla Walla'), ('ShipRegion', 'WA'), ('ShipPostalCode', '99362'), ('ShipCountry', 'USA'), ('ShippedDate', '1997-06-26T00:00:00')]))])\n",
      "OrderedDict([('CustomerID', 'LETSS'), ('EmployeeID', '1'), ('OrderDate', '1997-06-25T00:00:00'), ('RequiredDate', '1997-07-23T00:00:00'), ('ShipInfo', OrderedDict([('ShipVia', '2'), ('Freight', '13.73'), ('ShipName', \"Let's Stop N Shop\"), ('ShipAddress', '87 Polk St. Suite 5'), ('ShipCity', 'San Francisco'), ('ShipRegion', 'CA'), ('ShipPostalCode', '94117'), ('ShipCountry', 'USA'), ('ShippedDate', '1997-07-04T00:00:00')]))])\n",
      "OrderedDict([('CustomerID', 'LETSS'), ('EmployeeID', '8'), ('OrderDate', '1997-10-27T00:00:00'), ('RequiredDate', '1997-11-24T00:00:00'), ('ShipInfo', OrderedDict([('ShipVia', '2'), ('Freight', '51.44'), ('ShipName', \"Let's Stop N Shop\"), ('ShipAddress', '87 Polk St. Suite 5'), ('ShipCity', 'San Francisco'), ('ShipRegion', 'CA'), ('ShipPostalCode', '94117'), ('ShipCountry', 'USA'), ('ShippedDate', '1997-11-05T00:00:00')]))])\n",
      "OrderedDict([('CustomerID', 'LETSS'), ('EmployeeID', '6'), ('OrderDate', '1997-11-10T00:00:00'), ('RequiredDate', '1997-12-08T00:00:00'), ('ShipInfo', OrderedDict([('ShipVia', '2'), ('Freight', '45.97'), ('ShipName', \"Let's Stop N Shop\"), ('ShipAddress', '87 Polk St. Suite 5'), ('ShipCity', 'San Francisco'), ('ShipRegion', 'CA'), ('ShipPostalCode', '94117'), ('ShipCountry', 'USA'), ('ShippedDate', '1997-11-21T00:00:00')]))])\n",
      "OrderedDict([('CustomerID', 'LETSS'), ('EmployeeID', '4'), ('OrderDate', '1998-02-12T00:00:00'), ('RequiredDate', '1998-03-12T00:00:00'), ('ShipInfo', OrderedDict([('ShipVia', '2'), ('Freight', '90.97'), ('ShipName', \"Let's Stop N Shop\"), ('ShipAddress', '87 Polk St. Suite 5'), ('ShipCity', 'San Francisco'), ('ShipRegion', 'CA'), ('ShipPostalCode', '94117'), ('ShipCountry', 'USA'), ('ShippedDate', '1998-02-13T00:00:00')]))])\n"
     ]
    }
   ],
   "source": [
    "a=get_orders(document)\n",
    "for i in a:\n",
    "    print(i)"
   ]
  },
  {
   "cell_type": "code",
   "execution_count": 106,
   "id": "475e04bb-473c-4cb7-bee3-26d93ccc4f2e",
   "metadata": {},
   "outputs": [
    {
     "name": "stderr",
     "output_type": "stream",
     "text": [
      "WARNING:root:Make sure that locally built Python SDK docker image has Python 3.7 interpreter.\n"
     ]
    },
    {
     "name": "stdout",
     "output_type": "stream",
     "text": [
      "OrderedDict([('CustomerID', 'GREAL'), ('EmployeeID', '6'), ('OrderDate', '1997-05-06T00:00:00'), ('RequiredDate', '1997-05-20T00:00:00'), ('ShipInfo', OrderedDict([('ShipVia', '2'), ('Freight', '3.35'), ('ShipName', 'Great Lakes Food Market'), ('ShipAddress', '2732 Baker Blvd.'), ('ShipCity', 'Eugene'), ('ShipRegion', 'OR'), ('ShipPostalCode', '97403'), ('ShipCountry', 'USA'), ('ShippedDate', '1997-05-09T00:00:00')]))])\n",
      "OrderedDict([('CustomerID', 'GREAL'), ('EmployeeID', '8'), ('OrderDate', '1997-07-04T00:00:00'), ('RequiredDate', '1997-08-01T00:00:00'), ('ShipInfo', OrderedDict([('ShipVia', '2'), ('Freight', '4.42'), ('ShipName', 'Great Lakes Food Market'), ('ShipAddress', '2732 Baker Blvd.'), ('ShipCity', 'Eugene'), ('ShipRegion', 'OR'), ('ShipPostalCode', '97403'), ('ShipCountry', 'USA'), ('ShippedDate', '1997-07-14T00:00:00')]))])\n",
      "OrderedDict([('CustomerID', 'GREAL'), ('EmployeeID', '1'), ('OrderDate', '1997-07-31T00:00:00'), ('RequiredDate', '1997-08-28T00:00:00'), ('ShipInfo', OrderedDict([('ShipVia', '2'), ('Freight', '116.53'), ('ShipName', 'Great Lakes Food Market'), ('ShipAddress', '2732 Baker Blvd.'), ('ShipCity', 'Eugene'), ('ShipRegion', 'OR'), ('ShipPostalCode', '97403'), ('ShipCountry', 'USA'), ('ShippedDate', '1997-08-05T00:00:00')]))])\n",
      "OrderedDict([('CustomerID', 'GREAL'), ('EmployeeID', '4'), ('OrderDate', '1997-07-31T00:00:00'), ('RequiredDate', '1997-08-28T00:00:00'), ('ShipInfo', OrderedDict([('ShipVia', '2'), ('Freight', '18.53'), ('ShipName', 'Great Lakes Food Market'), ('ShipAddress', '2732 Baker Blvd.'), ('ShipCity', 'Eugene'), ('ShipRegion', 'OR'), ('ShipPostalCode', '97403'), ('ShipCountry', 'USA'), ('ShippedDate', '1997-08-04T00:00:00')]))])\n",
      "OrderedDict([('CustomerID', 'GREAL'), ('EmployeeID', '6'), ('OrderDate', '1997-09-04T00:00:00'), ('RequiredDate', '1997-10-02T00:00:00'), ('ShipInfo', OrderedDict([('ShipVia', '1'), ('Freight', '57.15'), ('ShipName', 'Great Lakes Food Market'), ('ShipAddress', '2732 Baker Blvd.'), ('ShipCity', 'Eugene'), ('ShipRegion', 'OR'), ('ShipPostalCode', '97403'), ('ShipCountry', 'USA'), ('ShippedDate', '1997-09-10T00:00:00')]))])\n",
      "OrderedDict([('CustomerID', 'GREAL'), ('EmployeeID', '3'), ('OrderDate', '1997-09-25T00:00:00'), ('RequiredDate', '1997-10-23T00:00:00'), ('ShipInfo', OrderedDict([('ShipVia', '3'), ('Freight', '76.13'), ('ShipName', 'Great Lakes Food Market'), ('ShipAddress', '2732 Baker Blvd.'), ('ShipCity', 'Eugene'), ('ShipRegion', 'OR'), ('ShipPostalCode', '97403'), ('ShipCountry', 'USA'), ('ShippedDate', '1997-09-30T00:00:00')]))])\n",
      "OrderedDict([('CustomerID', 'GREAL'), ('EmployeeID', '4'), ('OrderDate', '1998-01-06T00:00:00'), ('RequiredDate', '1998-02-03T00:00:00'), ('ShipInfo', OrderedDict([('ShipVia', '2'), ('Freight', '719.78'), ('ShipName', 'Great Lakes Food Market'), ('ShipAddress', '2732 Baker Blvd.'), ('ShipCity', 'Eugene'), ('ShipRegion', 'OR'), ('ShipPostalCode', '97403'), ('ShipCountry', 'USA'), ('ShippedDate', '1998-02-04T00:00:00')]))])\n",
      "OrderedDict([('CustomerID', 'GREAL'), ('EmployeeID', '3'), ('OrderDate', '1998-03-09T00:00:00'), ('RequiredDate', '1998-04-06T00:00:00'), ('ShipInfo', OrderedDict([('ShipVia', '2'), ('Freight', '33.68'), ('ShipName', 'Great Lakes Food Market'), ('ShipAddress', '2732 Baker Blvd.'), ('ShipCity', 'Eugene'), ('ShipRegion', 'OR'), ('ShipPostalCode', '97403'), ('ShipCountry', 'USA'), ('ShippedDate', '1998-03-18T00:00:00')]))])\n",
      "OrderedDict([('CustomerID', 'GREAL'), ('EmployeeID', '3'), ('OrderDate', '1998-04-07T00:00:00'), ('RequiredDate', '1998-05-05T00:00:00'), ('ShipInfo', OrderedDict([('ShipVia', '2'), ('Freight', '25.19'), ('ShipName', 'Great Lakes Food Market'), ('ShipAddress', '2732 Baker Blvd.'), ('ShipCity', 'Eugene'), ('ShipRegion', 'OR'), ('ShipPostalCode', '97403'), ('ShipCountry', 'USA'), ('ShippedDate', '1998-04-15T00:00:00')]))])\n",
      "OrderedDict([('CustomerID', 'GREAL'), ('EmployeeID', '4'), ('OrderDate', '1998-04-22T00:00:00'), ('RequiredDate', '1998-05-20T00:00:00'), ('ShipInfo', OrderedDict([('ShipVia', '3'), ('Freight', '18.84'), ('ShipName', 'Great Lakes Food Market'), ('ShipAddress', '2732 Baker Blvd.'), ('ShipCity', 'Eugene'), ('ShipRegion', 'OR'), ('ShipPostalCode', '97403'), ('ShipCountry', 'USA')]))])\n",
      "OrderedDict([('CustomerID', 'GREAL'), ('EmployeeID', '4'), ('OrderDate', '1998-04-30T00:00:00'), ('RequiredDate', '1998-06-11T00:00:00'), ('ShipInfo', OrderedDict([('ShipVia', '3'), ('Freight', '14.01'), ('ShipName', 'Great Lakes Food Market'), ('ShipAddress', '2732 Baker Blvd.'), ('ShipCity', 'Eugene'), ('ShipRegion', 'OR'), ('ShipPostalCode', '97403'), ('ShipCountry', 'USA')]))])\n",
      "OrderedDict([('CustomerID', 'HUNGC'), ('EmployeeID', '3'), ('OrderDate', '1996-12-06T00:00:00'), ('RequiredDate', '1997-01-03T00:00:00'), ('ShipInfo', OrderedDict([('ShipVia', '2'), ('Freight', '20.12'), ('ShipName', 'Hungry Coyote Import Store'), ('ShipAddress', 'City Center Plaza 516 Main St.'), ('ShipCity', 'Elgin'), ('ShipRegion', 'OR'), ('ShipPostalCode', '97827'), ('ShipCountry', 'USA'), ('ShippedDate', '1996-12-09T00:00:00')]))])\n",
      "OrderedDict([('CustomerID', 'HUNGC'), ('EmployeeID', '1'), ('OrderDate', '1996-12-25T00:00:00'), ('RequiredDate', '1997-01-22T00:00:00'), ('ShipInfo', OrderedDict([('ShipVia', '3'), ('Freight', '30.34'), ('ShipName', 'Hungry Coyote Import Store'), ('ShipAddress', 'City Center Plaza 516 Main St.'), ('ShipCity', 'Elgin'), ('ShipRegion', 'OR'), ('ShipPostalCode', '97827'), ('ShipCountry', 'USA'), ('ShippedDate', '1997-01-03T00:00:00')]))])\n",
      "OrderedDict([('CustomerID', 'HUNGC'), ('EmployeeID', '3'), ('OrderDate', '1997-01-15T00:00:00'), ('RequiredDate', '1997-02-12T00:00:00'), ('ShipInfo', OrderedDict([('ShipVia', '1'), ('Freight', '0.2'), ('ShipName', 'Hungry Coyote Import Store'), ('ShipAddress', 'City Center Plaza 516 Main St.'), ('ShipCity', 'Elgin'), ('ShipRegion', 'OR'), ('ShipPostalCode', '97827'), ('ShipCountry', 'USA'), ('ShippedDate', '1997-01-24T00:00:00')]))])\n",
      "OrderedDict([('CustomerID', 'HUNGC'), ('EmployeeID', '4'), ('OrderDate', '1997-07-16T00:00:00'), ('RequiredDate', '1997-08-13T00:00:00'), ('ShipInfo', OrderedDict([('ShipVia', '1'), ('Freight', '45.13'), ('ShipName', 'Hungry Coyote Import Store'), ('ShipAddress', 'City Center Plaza 516 Main St.'), ('ShipCity', 'Elgin'), ('ShipRegion', 'OR'), ('ShipPostalCode', '97827'), ('ShipCountry', 'USA'), ('ShippedDate', '1997-07-21T00:00:00')]))])\n",
      "OrderedDict([('CustomerID', 'HUNGC'), ('EmployeeID', '8'), ('OrderDate', '1997-09-08T00:00:00'), ('RequiredDate', '1997-10-06T00:00:00'), ('ShipInfo', OrderedDict([('ShipVia', '1'), ('Freight', '111.29'), ('ShipName', 'Hungry Coyote Import Store'), ('ShipAddress', 'City Center Plaza 516 Main St.'), ('ShipCity', 'Elgin'), ('ShipRegion', 'OR'), ('ShipPostalCode', '97827'), ('ShipCountry', 'USA'), ('ShippedDate', '1997-10-15T00:00:00')]))])\n",
      "OrderedDict([('CustomerID', 'LAZYK'), ('EmployeeID', '1'), ('OrderDate', '1997-03-21T00:00:00'), ('RequiredDate', '1997-04-18T00:00:00'), ('ShipInfo', OrderedDict([('ShipVia', '3'), ('Freight', '7.48'), ('ShipName', 'Lazy K Kountry Store'), ('ShipAddress', '12 Orchestra Terrace'), ('ShipCity', 'Walla Walla'), ('ShipRegion', 'WA'), ('ShipPostalCode', '99362'), ('ShipCountry', 'USA'), ('ShippedDate', '1997-04-10T00:00:00')]))])\n",
      "OrderedDict([('CustomerID', 'LAZYK'), ('EmployeeID', '8'), ('OrderDate', '1997-05-22T00:00:00'), ('RequiredDate', '1997-06-19T00:00:00'), ('ShipInfo', OrderedDict([('ShipVia', '2'), ('Freight', '11.92'), ('ShipName', 'Lazy K Kountry Store'), ('ShipAddress', '12 Orchestra Terrace'), ('ShipCity', 'Walla Walla'), ('ShipRegion', 'WA'), ('ShipPostalCode', '99362'), ('ShipCountry', 'USA'), ('ShippedDate', '1997-06-26T00:00:00')]))])\n",
      "OrderedDict([('CustomerID', 'LETSS'), ('EmployeeID', '1'), ('OrderDate', '1997-06-25T00:00:00'), ('RequiredDate', '1997-07-23T00:00:00'), ('ShipInfo', OrderedDict([('ShipVia', '2'), ('Freight', '13.73'), ('ShipName', \"Let's Stop N Shop\"), ('ShipAddress', '87 Polk St. Suite 5'), ('ShipCity', 'San Francisco'), ('ShipRegion', 'CA'), ('ShipPostalCode', '94117'), ('ShipCountry', 'USA'), ('ShippedDate', '1997-07-04T00:00:00')]))])\n",
      "OrderedDict([('CustomerID', 'LETSS'), ('EmployeeID', '8'), ('OrderDate', '1997-10-27T00:00:00'), ('RequiredDate', '1997-11-24T00:00:00'), ('ShipInfo', OrderedDict([('ShipVia', '2'), ('Freight', '51.44'), ('ShipName', \"Let's Stop N Shop\"), ('ShipAddress', '87 Polk St. Suite 5'), ('ShipCity', 'San Francisco'), ('ShipRegion', 'CA'), ('ShipPostalCode', '94117'), ('ShipCountry', 'USA'), ('ShippedDate', '1997-11-05T00:00:00')]))])\n",
      "OrderedDict([('CustomerID', 'LETSS'), ('EmployeeID', '6'), ('OrderDate', '1997-11-10T00:00:00'), ('RequiredDate', '1997-12-08T00:00:00'), ('ShipInfo', OrderedDict([('ShipVia', '2'), ('Freight', '45.97'), ('ShipName', \"Let's Stop N Shop\"), ('ShipAddress', '87 Polk St. Suite 5'), ('ShipCity', 'San Francisco'), ('ShipRegion', 'CA'), ('ShipPostalCode', '94117'), ('ShipCountry', 'USA'), ('ShippedDate', '1997-11-21T00:00:00')]))])\n",
      "OrderedDict([('CustomerID', 'LETSS'), ('EmployeeID', '4'), ('OrderDate', '1998-02-12T00:00:00'), ('RequiredDate', '1998-03-12T00:00:00'), ('ShipInfo', OrderedDict([('ShipVia', '2'), ('Freight', '90.97'), ('ShipName', \"Let's Stop N Shop\"), ('ShipAddress', '87 Polk St. Suite 5'), ('ShipCity', 'San Francisco'), ('ShipRegion', 'CA'), ('ShipPostalCode', '94117'), ('ShipCountry', 'USA'), ('ShippedDate', '1998-02-13T00:00:00')]))])\n"
     ]
    },
    {
     "data": {
      "text/plain": [
       "<apache_beam.runners.interactive.interactive_runner.PipelineResult at 0x7f61a0e39750>"
      ]
     },
     "execution_count": 106,
     "metadata": {},
     "output_type": "execute_result"
    }
   ],
   "source": [
    "import argparse\n",
    "argv = None\n",
    "p = beam.Pipeline(InteractiveRunner())\n",
    "\n",
    "\n",
    "def printrow(element):\n",
    "    print(element)\n",
    "    print(\"##\")\n",
    "\n",
    "output = (p | 'files' >> beam.Create(['orders.xml']) |\n",
    "'parse' >> beam.Map(lambda filename: parse_into_dict(filename)) |\n",
    "'orders' >> beam.FlatMap(lambda doc: get_orders(doc)) | beam.Map(print))\n",
    "#beam.io.WriteToBigQuery(\"gcp-bq-2021:dataset1.table2\",\n",
    "#                                       schema=table_schema,\n",
    "#                                       write_disposition=beam.io.BigQueryDisposition.WRITE_APPEND, #WRITE_TRUNCATE\n",
    "#                                       create_disposition=beam.io.BigQueryDisposition.CREATE_IF_NEEDED,\n",
    "#                       custom_gcs_temp_location=\"gs://gcp-bq-2021\"))\n",
    "\n",
    "p.run()\n",
    "#ib.show(output)"
   ]
  },
  {
   "cell_type": "code",
   "execution_count": 95,
   "id": "973ef34f-df4e-44af-945d-c4f87b25dc77",
   "metadata": {},
   "outputs": [
    {
     "name": "stdout",
     "output_type": "stream",
     "text": [
      "<class 'range'>\n"
     ]
    }
   ],
   "source": [
    "a=range(3)\n",
    "print(type(a))"
   ]
  },
  {
   "cell_type": "code",
   "execution_count": 109,
   "id": "d9a56f92-e26a-4b70-8087-bb391a991aed",
   "metadata": {},
   "outputs": [
    {
     "ename": "NameError",
     "evalue": "name 'MySplitFn' is not defined",
     "output_type": "error",
     "traceback": [
      "\u001b[0;31m---------------------------------------------------------------------------\u001b[0m",
      "\u001b[0;31mNameError\u001b[0m                                 Traceback (most recent call last)",
      "\u001b[0;32m/tmp/ipykernel_9903/1439173367.py\u001b[0m in \u001b[0;36m<module>\u001b[0;34m\u001b[0m\n\u001b[1;32m      1\u001b[0m \u001b[0mparser_outputs\u001b[0m \u001b[0;34m=\u001b[0m \u001b[0;34m[\u001b[0m\u001b[0;34m'my'\u001b[0m\u001b[0;34m,\u001b[0m \u001b[0;34m'list'\u001b[0m\u001b[0;34m,\u001b[0m \u001b[0;34m'of'\u001b[0m\u001b[0;34m,\u001b[0m \u001b[0;34m'tables'\u001b[0m\u001b[0;34m]\u001b[0m\u001b[0;34m\u001b[0m\u001b[0;34m\u001b[0m\u001b[0m\n\u001b[0;32m----> 2\u001b[0;31m \u001b[0ma\u001b[0m\u001b[0;34m=\u001b[0m\u001b[0mp\u001b[0m \u001b[0;34m|\u001b[0m \u001b[0;34m\"Start\"\u001b[0m \u001b[0;34m>>\u001b[0m \u001b[0mbeam\u001b[0m\u001b[0;34m.\u001b[0m\u001b[0mCreate\u001b[0m\u001b[0;34m(\u001b[0m\u001b[0;34m[\u001b[0m\u001b[0;34m\"example row\"\u001b[0m\u001b[0;34m]\u001b[0m\u001b[0;34m)\u001b[0m \u001b[0;34m|\u001b[0m \u001b[0;34m\"Split\"\u001b[0m \u001b[0;34m>>\u001b[0m \u001b[0mbeam\u001b[0m\u001b[0;34m.\u001b[0m\u001b[0mParDo\u001b[0m\u001b[0;34m(\u001b[0m\u001b[0mMySplitFn\u001b[0m\u001b[0;34m(\u001b[0m\u001b[0;34m)\u001b[0m\u001b[0;34m)\u001b[0m\u001b[0;34m.\u001b[0m\u001b[0mwith_outputs\u001b[0m\u001b[0;34m(\u001b[0m\u001b[0;34m*\u001b[0m\u001b[0mparser_outputs\u001b[0m\u001b[0;34m)\u001b[0m\u001b[0;34m\u001b[0m\u001b[0;34m\u001b[0m\u001b[0m\n\u001b[0m",
      "\u001b[0;31mNameError\u001b[0m: name 'MySplitFn' is not defined"
     ]
    }
   ],
   "source": [
    "parser_outputs = ['my', 'list', 'of', 'tables']\n",
    "a=p | \"Start\" >> beam.Create([\"example row\"]) | \"Split\" >> beam.ParDo(MySplitFn()).with_outputs(*parser_outputs)"
   ]
  },
  {
   "cell_type": "code",
   "execution_count": null,
   "id": "be2b99ea-7681-4e15-a42f-9c4dfc7351cc",
   "metadata": {},
   "outputs": [],
   "source": []
  }
 ],
 "metadata": {
  "kernelspec": {
   "display_name": "Python 3 (ipykernel)",
   "language": "python",
   "name": "python3"
  },
  "language_info": {
   "codemirror_mode": {
    "name": "ipython",
    "version": 3
   },
   "file_extension": ".py",
   "mimetype": "text/x-python",
   "name": "python",
   "nbconvert_exporter": "python",
   "pygments_lexer": "ipython3",
   "version": "3.7.12"
  }
 },
 "nbformat": 4,
 "nbformat_minor": 5
}
