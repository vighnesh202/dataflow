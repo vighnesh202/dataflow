{
 "cells": [
  {
   "cell_type": "markdown",
   "metadata": {},
   "source": [
    "##### Copyright 2020 Google Inc.\n",
    "\n",
    "Licensed under the Apache License, Version 2.0 (the \"License\").\n",
    "<!--\n",
    "    Licensed to the Apache Software Foundation (ASF) under one\n",
    "    or more contributor license agreements.  See the NOTICE file\n",
    "    distributed with this work for additional information\n",
    "    regarding copyright ownership.  The ASF licenses this file\n",
    "    to you under the Apache License, Version 2.0 (the\n",
    "    \"License\"); you may not use this file except in compliance\n",
    "    with the License.  You may obtain a copy of the License at\n",
    "\n",
    "      http://www.apache.org/licenses/LICENSE-2.0\n",
    "\n",
    "    Unless required by applicable law or agreed to in writing,\n",
    "    software distributed under the License is distributed on an\n",
    "    \"AS IS\" BASIS, WITHOUT WARRANTIES OR CONDITIONS OF ANY\n",
    "    KIND, either express or implied.  See the License for the\n",
    "    specific language governing permissions and limitations\n",
    "    under the License.\n",
    "-->\n"
   ]
  },
  {
   "cell_type": "markdown",
   "metadata": {},
   "source": [
    "# Visualizing Data\n",
    "\n",
    "This notebook demonstrates how to collect data from a `PCollection` and use some common Python or Javascript libraries to visualize them.\n",
    "\n",
    "Setup (**Important**: run these first)\n",
    "- [Dependencies Needed](#Dependencies-Needed)\n",
    "- [Example Data](#Example-Data)\n",
    "\n",
    "Demos (You can always use `tab` for auto-completion and `shift` + `tab` when the cursor is on a piece of code for docstrings)\n",
    "1. [Native Interactive Beam Visualization](#Native-Interactive-Beam-Visualization)\n",
    "2. [Pandas DataFrame](#Pandas-DataFrame)\n",
    "3. [Matplotlib](#Matplotlib)\n",
    "4. [Seaborn](#Seaborn)\n",
    "5. [Bokeh](#Bokeh)\n",
    "6. [D3.js](#D3.js)"
   ]
  },
  {
   "cell_type": "markdown",
   "metadata": {},
   "source": [
    "## Dependencies Needed\n",
    "\n",
    "**Disclaimer**: Third party visualization libraries and their dependencies are not developed or managed by `Interactive Beam` or `Dataflow Notebooks`.\n",
    "\n",
    "- You only need to `!jupyter labextension install...` once for this notebook instance.\n",
    "- You only need to `%pip install` once for each kernel you use.\n",
    "- Follow the instructions of the pip install output when an error occurs or a kernel restart is required."
   ]
  },
  {
   "cell_type": "code",
   "execution_count": null,
   "metadata": {},
   "outputs": [],
   "source": [
    "!jupyter labextension install @jupyter-widgets/jupyterlab-manager@2.0.0 --no-build\n",
    "!jupyter labextension install @bokeh/jupyter_bokeh --no-build\n",
    "# Check the installation.\n",
    "!jupyter labextension list\n",
    "\n",
    "%pip install numpy matplotlib pandas seaborn bokeh\n",
    "# Restart the kernel after the installation. You can click the button with a\n",
    "# circled arrow icon and tooltip \"Restart the kernel\" in the tool bar or click\n",
    "# the menu item \"Kernel\" > \"Restart Kernel...\" to restart the kernel."
   ]
  },
  {
   "cell_type": "markdown",
   "metadata": {},
   "source": [
    "## Example Data\n",
    "\n",
    "- The data is fetched from [covidtracking.com](http://covidtracking.com).\n",
    "- It contains daily COVID19 tracking data on 2020-08-27 for the US grouped by states."
   ]
  },
  {
   "cell_type": "code",
   "execution_count": null,
   "metadata": {},
   "outputs": [],
   "source": [
    "from csv import reader\n",
    "from collections import namedtuple\n",
    "\n",
    "import apache_beam as beam\n",
    "from apache_beam.runners.interactive import interactive_beam as ib\n",
    "from apache_beam.runners.interactive.interactive_runner import InteractiveRunner\n",
    "\n",
    "# The source file contains the raw data in CSV format.\n",
    "csv_file = '../assets/visualize_data/example_data.csv'\n",
    "\n",
    "def read_headers(csv_file):\n",
    "  with open(csv_file, 'r') as f:\n",
    "    header_line = f.readline().strip()\n",
    "  return next(reader([header_line]))\n",
    "\n",
    "# Read the first row of the CSV file to take out the headers.\n",
    "headers = read_headers(csv_file)\n",
    "# Build a namedtuple with the headers as a schema for the raw data.\n",
    "UsCovidData = namedtuple('UsCovidData', headers)\n",
    "\n",
    "class UsCovidDataCsvReader(beam.DoFn):\n",
    "  \"\"\"A parser DoFn that converts each row of raw data in CSV format into\n",
    "  a UsCovidData schemed namedtuple.\"\"\"\n",
    "\n",
    "  def __init__(self, schema):\n",
    "    self._schema = schema\n",
    "    \n",
    "  def process(self, element):\n",
    "    values = [int(val) if val.isdigit() else val for val in next(reader([element]))]\n",
    "    return [self._schema(*values)]\n",
    "\n",
    "# Build a Beam pipeline with InteractiveRunner that uses DirectRunner as the\n",
    "# underlying runner by default.\n",
    "p = beam.Pipeline(runner=InteractiveRunner())\n",
    "pcoll_data = (p \n",
    "    | 'Read rows of the csv file' >> beam.io.ReadFromText(csv_file, skip_header_lines=1)\n",
    "    | 'Parse rows into UsCovidData typed elements' >> beam.ParDo(UsCovidDataCsvReader(UsCovidData)))\n",
    "\n",
    "# Collect the PCollection's data into a Pandas DataFrame.\n",
    "data = ib.collect(pcoll_data)\n",
    "data.describe()"
   ]
  },
  {
   "cell_type": "markdown",
   "metadata": {},
   "source": [
    "## Native Interactive Beam Visualization\n",
    "\n",
    "`Interactive Beam`'s native visualization utility `show` renders a paginated orderable and searchable datatable and [Facets](https://pair-code.github.io/facets/) visualization.\n",
    "\n",
    "- It's designed for users to navigate and gain insight of their data effortlessly.\n",
    "- It's the most interactive compared to other libraries since users can click, drag and type inputs to customize its visualization without coding.\n",
    "- More information can be found in [FAQ #3.How do I read the visualization](../../faq.md#q3)."
   ]
  },
  {
   "cell_type": "code",
   "execution_count": null,
   "metadata": {},
   "outputs": [],
   "source": [
    "ib.show(pcoll_data, visualize_data=True)"
   ]
  },
  {
   "cell_type": "markdown",
   "metadata": {},
   "source": [
    "## Pandas DataFrame\n",
    "\n",
    "The data collected from a PCollection is a Pandas `DataFrame`, so the easiest way to visualize the data is through pandas itself.\n",
    "\n",
    "- Pandas uses the standard convention for referencing the matplotlib API.\n",
    "- Pandas visualization [guide](https://pandas.pydata.org/pandas-docs/stable/user_guide/visualization.html).\n",
    "\n",
    "Native Interactive Beam visualization automatically generates histogram for each column of the data.\n",
    "On top of that, We can use Pandas DataFrame's visualization to build stacked histograms."
   ]
  },
  {
   "cell_type": "code",
   "execution_count": null,
   "metadata": {},
   "outputs": [],
   "source": [
    "import matplotlib.pyplot as plt\n",
    "import pandas as pd\n",
    "\n",
    "plt.close('all')\n",
    "df = ib.collect(pcoll_data)\n",
    "plt.figure()\n",
    "\n",
    "# Display a stacked histogram for 'positive' and 'negative'. \n",
    "df[['positive', 'negative']].plot.hist(alpha=0.5, stacked=True)"
   ]
  },
  {
   "cell_type": "markdown",
   "metadata": {},
   "source": [
    "## Matplotlib\n",
    "\n",
    "- As explained in [Types of inputs to plotting functions](https://matplotlib.org/tutorials/introductory/usage.html#types-of-inputs-to-plotting-functions):\n",
    ">All of plotting functions expect numpy.array or numpy.ma.masked_array as input. Classes that are 'array-like' such as pandas data objects and numpy.matrix may or may not work as intended. It is best to convert these to numpy.array objects prior to plotting.\n",
    "\n",
    "- User [guide](https://matplotlib.org/users/index.html)"
   ]
  },
  {
   "cell_type": "code",
   "execution_count": null,
   "metadata": {},
   "outputs": [],
   "source": [
    "import matplotlib.pyplot as plt\n",
    "import numpy as np\n",
    "\n",
    "df = ib.collect(pcoll_data)\n",
    "# Convert from Pandas DataFrame to numpy array.\n",
    "df_array = df[['positive', 'negative']].values\n",
    "\n",
    "# The minimum efforts to build a plot that is not readable nor useful with matplotlib.\n",
    "fig, ax = plt.subplots()\n",
    "ax.plot(df_array)"
   ]
  },
  {
   "cell_type": "markdown",
   "metadata": {},
   "source": [
    "The above plot draws 56 data points each with 2 columns. Each column of data is plotted as a separated line plot. The line above is the 'negative' number for each data point and the line below is the 'positive' number.\n",
    "\n",
    "Here are the reasons why we cannot interpret the plot:\n",
    "\n",
    "- There is no title, no legend, and no labels for us to make sense of the data.\n",
    "- The x-axis is metadata (the index of each data point) not data itself.\n",
    "- The line plot does not make sense since there is no trending nor timeseries between data points. A scatter plot would be more useful.\n",
    "\n",
    "There are [two ways](https://matplotlib.org/tutorials/introductory/usage.html#the-object-oriented-interface-and-the-pyplot-interface) to use matplotlib:\n",
    "\n",
    "- Object-oriented interface (OO-style)\n",
    "- Rely on pyplot\n",
    "\n",
    "We demonstrate both by making the above plot readable."
   ]
  },
  {
   "cell_type": "code",
   "execution_count": null,
   "metadata": {},
   "outputs": [],
   "source": [
    "# OO-style\n",
    "\n",
    "fig_oo, ax_oo = plt.subplots()  # Create a figure and an axes.\n",
    "ax_oo.plot(df['positive'].values, df['negative'].values, 'bo', label='correlation')\n",
    "ax_oo.set_xlabel('positive')  # Add an x-label to the axes.\n",
    "ax_oo.set_ylabel('negative')  # Add a y-label to the axes.\n",
    "ax_oo.set_title('Correlation between positive and negative')  # Add a title to the axes.\n",
    "ax_oo.legend()"
   ]
  },
  {
   "cell_type": "code",
   "execution_count": null,
   "metadata": {},
   "outputs": [],
   "source": [
    "# Rely on pyplot\n",
    "\n",
    "plt.plot(df['positive'].values, df['negative'].values, 'bo', label='correlation')  # Plot some data on the (implicit) axes.\n",
    "plt.xlabel('positive')\n",
    "plt.ylabel('negative')\n",
    "plt.title('Correlation between positive and negative')\n",
    "plt.legend()"
   ]
  },
  {
   "cell_type": "markdown",
   "metadata": {},
   "source": [
    "## Seaborn\n",
    "\n",
    "- [Tutorials](https://seaborn.pydata.org/tutorial.html)\n",
    "\n",
    "We demonstrate categorical plot and distribution plot from Seaborn as we have done similar things with other libraries."
   ]
  },
  {
   "cell_type": "code",
   "execution_count": null,
   "metadata": {},
   "outputs": [],
   "source": [
    "import seaborn as sns\n",
    "import matplotlib.pyplot as plt\n",
    "\n",
    "df = ib.collect(pcoll_data)\n",
    "\n",
    "sns.set(style='ticks', color_codes=True)\n",
    "# Display categorical plot of 'positive', 'negative' and 'total' case numbers.\n",
    "sns.catplot(data=df[['positive', 'negative', 'total']])"
   ]
  },
  {
   "cell_type": "code",
   "execution_count": null,
   "metadata": {},
   "outputs": [],
   "source": [
    "# Display distribution of 'positive' case numbers.\n",
    "sns.distplot(df['positive'])"
   ]
  },
  {
   "cell_type": "markdown",
   "metadata": {},
   "source": [
    "## Bokeh\n",
    "\n",
    "Compared to other Python libraries listed in this demonstration, Bokeh has more interactivity in the visualization rather than static matplotlib plots. This is similar to the Native Interactive Beam visualization.\n",
    "\n",
    "The advantage of interactivity is the visualization allows the user to dive into each data point instead of just giving the user an overview.\n",
    "One visualization based on different user configuration can be interpreted in different ways to solve different problems.\n",
    "\n",
    "The disadvantage of interactive visualization is they tend to use more resources when rendered and hard to share.\n",
    "\n",
    "- User [guide](https://docs.bokeh.org/en/latest/docs/user_guide.html)\n",
    "- To use Bokeh in JupyterLab, make sure \n",
    "  - `jupyter labextension install @jupyter-widgets/jupyterlab-manager`\n",
    "  - Then `jupyter labextension install @bokeh/jupyter_bokeh`\n",
    "- **Warning**: There is a known Bokeh-JupyterLab [issue](https://github.com/bokeh/jupyter_bokeh/issues/29). If you refresh the page or\n",
    "  open a saved notebook, when there is a Bokeh plot in the output, the below code cell with `show(bokeh_plot)` will become invisible.\n",
    "  You have to clear the output, save the notebook, and then reopen this notebook to view the code.\n",
    "\n",
    "We demonstrate Bokeh with yet another 'positive'-'negative' correlation plot."
   ]
  },
  {
   "cell_type": "code",
   "execution_count": null,
   "metadata": {},
   "outputs": [],
   "source": [
    "from bokeh.plotting import output_notebook\n",
    "\n",
    "output_notebook()"
   ]
  },
  {
   "cell_type": "code",
   "execution_count": null,
   "metadata": {},
   "outputs": [],
   "source": [
    "from bokeh.plotting import figure, show\n",
    "\n",
    "df = ib.collect(pcoll_data)\n",
    "\n",
    "bokeh_plot = figure(\n",
    "   tools='pan,box_zoom,reset,save',  # The interactive tools offered by bokeh.\n",
    "   y_range=[1, 10**7], title='Correlation between positive and negative',\n",
    "   x_axis_label='positive', y_axis_label='negative'\n",
    ")\n",
    "\n",
    "bokeh_plot.circle(df['positive'], df['negative'], legend_label='correlation', fill_color='white', size=8)\n",
    "\n",
    "show(bokeh_plot)"
   ]
  },
  {
   "cell_type": "markdown",
   "metadata": {},
   "source": [
    "## D3.js\n",
    "\n",
    "Different from all other demonstrated libraries, D3.js is a Javascript library.\n",
    "\n",
    "- D3 [Wiki](https://github.com/d3/d3/wiki)\n",
    "- Advanced tutorial: [D3 in Depth](https://www.d3indepth.com/)\n",
    "\n",
    "Below shows how you can use a completely different approach to do visualization in your browser rather than relying on blackbox libraries to pre-render all outputs in the kernel.\n",
    "\n",
    "We demonstrate D3.js with a force simulated bubble chart. You have to execute below cells again if the page is refreshed or the notebook is opened from a saved state."
   ]
  },
  {
   "cell_type": "code",
   "execution_count": null,
   "metadata": {},
   "outputs": [],
   "source": [
    "# Move data from the Python kernel to a Javascript object in your browser.\n",
    "\n",
    "from IPython.display import Javascript\n",
    "\n",
    "df = ib.collect(pcoll_data)\n",
    "df_json = df[['state', 'positive']].to_json(orient='records')\n",
    "\n",
    "# Assign the json formatted DataFrame to a global Javascript variable `df_json`.\n",
    "Javascript('window.df_json={};'.format(df_json))"
   ]
  },
  {
   "cell_type": "code",
   "execution_count": null,
   "metadata": {},
   "outputs": [],
   "source": [
    "%%HTML\n",
    "\n",
    "<script src='https://d3js.org/d3.v5.js'></script>\n",
    "    \n",
    "<div>\n",
    "  Below bubble chart generated has these attributes:\n",
    "  <ul>\n",
    "    <li> State names as labels.</li>\n",
    "    <li>The bigger the positive number, the bigger the bubble.</li>\n",
    "    <li>Use mouse to drag the graph.</li>\n",
    "    <li>Use double click or mouse wheel to zoom in or out of the graph.</li>\n",
    "    <li>On hover each circle, it displays the positive number.</li>\n",
    "  </ul>\n",
    "  <svg id='bubble' width='800' height='600'></svg>\n",
    "</div>\n",
    "\n",
    "<script>\n",
    "  function bubbleChart() {\n",
    "    let bubbleData = window.df_json\n",
    "    let width = 800, height = 600;\n",
    "    let nodes = d3.shuffle(bubbleData.map((d) => {\n",
    "      return {\n",
    "        radius: d['positive'] / 10000,\n",
    "        label: d['state'],\n",
    "        ...d,\n",
    "      };\n",
    "    }));\n",
    "\n",
    "    let simulation = d3\n",
    "      .forceSimulation(nodes)\n",
    "      .force('center', d3.forceCenter().x(width/2).y(height/2))\n",
    "      .force('forceX', d3.forceX().strength(0.1).x(width/2))\n",
    "      .force('forceY', d3.forceY().strength(0.1).y(height/2))\n",
    "      .force('charge', d3.forceManyBody().strength(-80))\n",
    "      .force(\n",
    "        'collision',\n",
    "        d3.forceCollide().strength(1).radius(function (d) {\n",
    "          return d.radius;\n",
    "        }))\n",
    "      .on('tick', ticked);\n",
    "\n",
    "    let zoomable = d3\n",
    "      .select('#bubble')\n",
    "      .attr('viewBox', [0, 0, width, height]);\n",
    "    let zg = zoomable.append('g').attr('width', width).attr('height', height);\n",
    "    zoomable.call(\n",
    "      d3\n",
    "        .zoom()\n",
    "        .scaleExtent([0.25, 5])\n",
    "        .on('zoom', function () {\n",
    "          zg.attr('transform', d3.event.transform);\n",
    "        }));\n",
    "\n",
    "    let u = d3\n",
    "      .select('#bubble')\n",
    "      .select('g')\n",
    "      .selectAll('g')\n",
    "      .data(nodes);\n",
    "\n",
    "    let node = u.enter().append('g');\n",
    "    node\n",
    "      .append('circle')\n",
    "      .attr('r', function (d) {\n",
    "        return d.radius;\n",
    "      })\n",
    "      .attr('cx', function (d) {\n",
    "        return d.x;\n",
    "      })\n",
    "      .attr('cy', function (d) {\n",
    "        return d.y;\n",
    "      })\n",
    "      .style('fill', '#FBB65B')\n",
    "      .append('svg:title')\n",
    "      .text((d) => d['positive']);\n",
    "    node\n",
    "      .append('text')\n",
    "      .attr('x', (d) => d.x)\n",
    "      .attr('y', (d) => d.y + d.radius/6)\n",
    "      .attr('text-anchor', 'middle')\n",
    "      .style('fill', '#000000')\n",
    "      .style('font-size', (d) => d.radius/2)\n",
    "      .text((d) => d.label);\n",
    "    node.merge(u);\n",
    "    u.exit().remove();\n",
    "\n",
    "    function ticked() {\n",
    "      node.attr('transform', function(d) {\n",
    "        return 'translate(' + d.x + ',' + d.y + ')'\n",
    "      });\n",
    "    }\n",
    "  }\n",
    "\n",
    "  bubbleChart();\n",
    "</script>"
   ]
  }
 ],
 "metadata": {
  "language_info": {
   "codemirror_mode": {
    "name": "ipython",
    "version": 3
   },
   "file_extension": ".py",
   "mimetype": "text/x-python",
   "name": "python",
   "nbconvert_exporter": "python",
   "pygments_lexer": "ipython3",
   "version": "3.8.5"
  }
 },
 "nbformat": 4,
 "nbformat_minor": 4
}
