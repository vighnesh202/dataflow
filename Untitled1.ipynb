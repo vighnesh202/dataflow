{
 "cells": [
  {
   "cell_type": "code",
   "execution_count": 1,
   "id": "3ed74cc3-e754-4c70-a69d-2a7abd4e8264",
   "metadata": {},
   "outputs": [],
   "source": [
    "import apache_beam as beam\n",
    "from apache_beam.io.textio import ReadFromTextWithFilename, ReadFromText, ReadAllFromText, WriteToText\n",
    "from apache_beam.io.fileio import MatchFiles, WriteToFiles, TextSink\n",
    "from apache_beam.runners.interactive.interactive_runner import InteractiveRunner\n",
    "import apache_beam.runners.interactive.interactive_beam as ib"
   ]
  },
  {
   "cell_type": "code",
   "execution_count": 15,
   "id": "d60cddde-dbf9-46b9-8461-2f1568a38d3c",
   "metadata": {},
   "outputs": [
    {
     "name": "stderr",
     "output_type": "stream",
     "text": [
      "WARNING:root:Make sure that locally built Python SDK docker image has Python 3.7 interpreter.\n",
      "WARNING:apache_beam.io.filebasedsink:Deleting 2 existing files in target path matching: -*-of-%(num_shards)05d\n"
     ]
    },
    {
     "data": {
      "text/plain": [
       "<apache_beam.runners.interactive.interactive_runner.PipelineResult at 0x7f87c9aa17d0>"
      ]
     },
     "execution_count": 15,
     "metadata": {},
     "output_type": "execute_result"
    }
   ],
   "source": [
    "# PIPELINE TO UNZIP, READ A TEXT FILE AND WRITE TO A TEXT FILE.\n",
    "file_name = \"\"\n",
    "import zipfile\n",
    "output_path=\"outputfolder/\"\n",
    "p = beam.Pipeline(InteractiveRunner())\n",
    "def unzip(element):\n",
    "    with zipfile.ZipFile(element, 'r') as zip_ref:\n",
    "        zip_ref.extractall(\"unzipped_single/\")\n",
    "def get_data(element):\n",
    "    return element[1]\n",
    "def assign_values(element):\n",
    "    global file_name\n",
    "    file_name = element[0]\n",
    "    return element[0]\n",
    "def custom_data_transform(record):\n",
    "    file_name, data = record\n",
    "    return data\n",
    "def seperate_values(element):\n",
    "    name, data = element\n",
    "    c = (\"create_a_new\" >> beam.Create([data]) | WriteToFiles(path='path1/',\n",
    "    destination=name,\n",
    "    file_naming=beam.io.fileio.destination_prefix_naming(),\n",
    "    sink=TextSink()))\n",
    "def manual_write(element):\n",
    "    name, data = element\n",
    "    with open(\"manual_write/\"+name.split(\"/\")[-1], 'w') as file:\n",
    "        file.write(data)\n",
    "data_path = (p | \"create\" >> beam.Create([\"singleline.zip\"]) | beam.ParDo(unzip) | MatchFiles(\"unzipped_single/*.txt\") | \n",
    "             \"m\" >> beam.Map(lambda x: x.path) | \n",
    "             ReadAllFromText(with_filename=False) | \n",
    "             WriteToText(file_path_prefix=\"singlelinefiles/\", file_name_suffix=\".txt\", num_shards=2))\n",
    "             #| beam.FlatMap(lambda x: x) | beam.Map(print_values))\n",
    "            # beam.Map(manual_write))\n",
    "              #| \"data\" >> beam.Map(lambda x:print(type(x))) | \n",
    "            ##WriteToText(file_path_prefix=\"path1/\", file_name_suffix=\".txt\", num_shards=2))\n",
    "            # WriteToFiles(path='path1/',\n",
    "    #destination=beam.ParDo(assign_values),\n",
    "    #file_naming=beam.io.fileio.destination_prefix_naming(),\n",
    "    #sink=TextSink()))\n",
    "        \n",
    "        \n",
    "        \n",
    "        #'Transform' >> beam.Map(custom_data_transform) |\n",
    "     #   WriteToFiles(path='path/to/output',\n",
    "    #file_naming=beam.io.fileio.destination_prefix_naming(),\n",
    "    #destination=\"t1.txt\",\n",
    "    #sink=TextSink()))\n",
    "        \n",
    "        \n",
    "      #  \"assign\" >> beam.ParDo(assign_values, \"stry\"))# | #| beam.Map(lambda x: print(x[0])))\n",
    "        #WriteToText(file_path_prefix=output_path+file_name, file_name_suffix=\".txt\", num_shards=2))\n",
    "#beam.Map(lambda x: print(x.path)))\n",
    "#print(\"file:{}\".format(file_name))\n",
    "p.run()\n",
    "#ib.show(data)\n",
    "#ib.show_graph(p)"
   ]
  },
  {
   "cell_type": "code",
   "execution_count": 43,
   "id": "bf0d5a76-99be-4b21-8fe1-d49d951d23bf",
   "metadata": {},
   "outputs": [
    {
     "name": "stdout",
     "output_type": "stream",
     "text": [
      "['file2']\n",
      "['file22']\n"
     ]
    }
   ],
   "source": [
    "import gzip\n",
    "for r in gzip.open(\"com.txt.gz\"):\n",
    "        s = r.decode('utf-8')\n",
    "        print(s.strip('\\n').split(','))"
   ]
  },
  {
   "cell_type": "code",
   "execution_count": 117,
   "id": "7124ca6f-c0c2-4b1a-926f-aba72ea88715",
   "metadata": {},
   "outputs": [
    {
     "name": "stdout",
     "output_type": "stream",
     "text": [
      "1\n",
      "2\n"
     ]
    }
   ],
   "source": [
    "a=(1,2)\n",
    "w,t=a\n",
    "print(w)\n",
    "print(t)"
   ]
  },
  {
   "cell_type": "code",
   "execution_count": 49,
   "id": "786a14e0-136d-4551-9191-096f69a98c93",
   "metadata": {},
   "outputs": [
    {
     "name": "stdout",
     "output_type": "stream",
     "text": [
      "<zipfile.ZipFile filename='file.zip' mode='r'>\n"
     ]
    }
   ],
   "source": [
    "import zipfile\n",
    "with zipfile.ZipFile('file.zip', 'r') as zip_ref:\n",
    "    print(zip_ref)"
   ]
  },
  {
   "cell_type": "code",
   "execution_count": 29,
   "id": "6394d113-7379-487e-9e2f-1fbf189cb8bc",
   "metadata": {},
   "outputs": [],
   "source": [
    "with gzip.open('file.gz', 'wb') as f:\n",
    "    f.write('Hello world!'.encode())"
   ]
  },
  {
   "cell_type": "code",
   "execution_count": null,
   "id": "1e9c663a-18f6-4164-9402-b8911a4d9bf6",
   "metadata": {},
   "outputs": [],
   "source": []
  },
  {
   "cell_type": "code",
   "execution_count": null,
   "id": "aedc5452-0233-49e7-9eaf-723c628f6da7",
   "metadata": {},
   "outputs": [],
   "source": []
  },
  {
   "cell_type": "code",
   "execution_count": null,
   "id": "1c5a5d3c-1d8b-40b5-b714-0ac1b67bb57f",
   "metadata": {},
   "outputs": [],
   "source": []
  },
  {
   "cell_type": "code",
   "execution_count": 32,
   "id": "528bc004-b0a3-4ce9-bdf0-38c88d37124b",
   "metadata": {},
   "outputs": [],
   "source": [
    "from apache_beam.io.filesystem import CompressionTypes"
   ]
  },
  {
   "cell_type": "code",
   "execution_count": 39,
   "id": "a1a4b556-b408-4656-9dc2-7edfb2e18f1a",
   "metadata": {},
   "outputs": [
    {
     "data": {
      "text/plain": [
       "False"
      ]
     },
     "execution_count": 39,
     "metadata": {},
     "output_type": "execute_result"
    }
   ],
   "source": [
    "CompressionTypes.is_valid_compression_type(\".tar.gzip\")"
   ]
  },
  {
   "cell_type": "code",
   "execution_count": null,
   "id": "840e9e36-9483-4a60-9ba8-4848b7206682",
   "metadata": {},
   "outputs": [],
   "source": []
  },
  {
   "cell_type": "code",
   "execution_count": null,
   "id": "dc6997e2-ddb1-4bf6-845f-b1216d5a7d3a",
   "metadata": {},
   "outputs": [],
   "source": []
  },
  {
   "cell_type": "code",
   "execution_count": null,
   "id": "0ed00d80-76cc-4a5c-9971-27938a0aea8c",
   "metadata": {},
   "outputs": [],
   "source": []
  },
  {
   "cell_type": "code",
   "execution_count": null,
   "id": "88838407-8df5-45c4-99f7-bece66036a81",
   "metadata": {},
   "outputs": [],
   "source": []
  },
  {
   "cell_type": "code",
   "execution_count": 46,
   "id": "4dbce341-15d3-4124-9017-0cc279867d8d",
   "metadata": {},
   "outputs": [],
   "source": [
    "import gzip\n",
    "import shutil\n",
    "for i in ['file2.txt', 'file1.txt']:\n",
    "    with open('{}'.format(i), 'rb') as f_in:\n",
    "        with gzip.open('com.txt.gz', 'wb') as f_out:\n",
    "            shutil.copyfileobj(f_in, f_out)"
   ]
  },
  {
   "cell_type": "code",
   "execution_count": 52,
   "id": "d3ea72c4-4c5d-4d64-9581-f2003e86e1fe",
   "metadata": {},
   "outputs": [],
   "source": [
    "# unzip a .zip file to a folder\n",
    "import zipfile\n",
    "with zipfile.ZipFile(\"openweather.zip\", 'r') as zip_ref:\n",
    "    zip_ref.extractall(\"zipped_files/\")"
   ]
  },
  {
   "cell_type": "code",
   "execution_count": null,
   "id": "ea79a295-68a7-4cab-b4c7-b5f8c03581f4",
   "metadata": {},
   "outputs": [],
   "source": []
  }
 ],
 "metadata": {
  "kernelspec": {
   "display_name": "01. Apache Beam 2.35.0 for Python 3",
   "language": "python",
   "name": "01-apache-beam-2.35.0"
  },
  "language_info": {
   "codemirror_mode": {
    "name": "ipython",
    "version": 3
   },
   "file_extension": ".py",
   "mimetype": "text/x-python",
   "name": "python",
   "nbconvert_exporter": "python",
   "pygments_lexer": "ipython3",
   "version": "3.7.12"
  }
 },
 "nbformat": 4,
 "nbformat_minor": 5
}
